{
 "cells": [
  {
   "cell_type": "markdown",
   "id": "7feb917d",
   "metadata": {},
   "source": [
    "Задание 1\n",
    "Напишите функцию, которая принимает на вход строку и проверяет является ли она валидным транспортным номером (1 буква, 3 цифры, 2 буквы, 2-3 цифры). Обратите внимание, что не все буквы кириллического алфавита используются в транспортных номерах.\n",
    "\n",
    "Если номер валиден, то функция должна возвращать отдельно номер и регион.\n",
    "\n",
    "Примеры работы программы:\n",
    "\n",
    "car_id = 'A222BC96'\n",
    "Результат: Номер A222BС валиден. Регион: 96\n",
    "\n",
    "car_id = 'АБ22ВВ193'\n",
    "Результат: Номер не валиден"
   ]
  },
  {
   "cell_type": "code",
   "execution_count": 326,
   "id": "dfc34589",
   "metadata": {},
   "outputs": [],
   "source": [
    "def check_auto_id(car_id):\n",
    "    '''\n",
    "    проверка номера ТС на валидность\n",
    "    '''\n",
    "    import re\n",
    "    regex_car_id = r'[ABEKMHOPCTYX]{1}[0-9]{3}[ABEKMHOPCTYX]{2}[0-9]{2,3}$'\n",
    "    car_id_result = re.findall(regex_car_id,car_id)\n",
    "    if car_id_result == []:\n",
    "        print('Номер не валиден')\n",
    "    else:\n",
    "        print('Номер',car_id_result[0][0:6],'валиден. Регион:', car_id_result[0][6:9])    \n",
    "    return"
   ]
  },
  {
   "cell_type": "code",
   "execution_count": 1760,
   "id": "70df371a",
   "metadata": {},
   "outputs": [],
   "source": [
    "def check_auto_id(car_id):\n",
    "    '''\n",
    "    проверка номера ТС на валидность\n",
    "    '''\n",
    "    import re\n",
    "    regex_car_id = r'([ABEKMHOPCTYX]{1}[0-9]{3}[ABEKMHOPCTYX]{2}])([0-9]{2,3}$)'\n",
    "    car_id_result = re.findall(regex_car_id,car_id)\n",
    "    if car_id_result == []:\n",
    "        print('Номер не валиден')\n",
    "    else:\n",
    "        print('Номер',r'\\1','валиден. Регион:', r'\\2')    \n",
    "    return"
   ]
  },
  {
   "cell_type": "code",
   "execution_count": 1761,
   "id": "6facc57f",
   "metadata": {},
   "outputs": [
    {
     "name": "stdout",
     "output_type": "stream",
     "text": [
      "Номер не валиден\n"
     ]
    }
   ],
   "source": [
    "car_id = 'A222BC96'\n",
    "check_auto_id(car_id)"
   ]
  },
  {
   "cell_type": "code",
   "execution_count": 1758,
   "id": "c9fc6781",
   "metadata": {},
   "outputs": [
    {
     "name": "stdout",
     "output_type": "stream",
     "text": [
      "Номер не валиден\n"
     ]
    }
   ],
   "source": [
    "car_id = 'A111MO999'\n",
    "check_auto_id(car_id)"
   ]
  },
  {
   "cell_type": "code",
   "execution_count": 1759,
   "id": "ba23561b",
   "metadata": {},
   "outputs": [
    {
     "name": "stdout",
     "output_type": "stream",
     "text": [
      "Номер не валиден\n"
     ]
    }
   ],
   "source": [
    "car_id = 'АБ22ВВ193'\n",
    "check_auto_id(car_id)"
   ]
  },
  {
   "cell_type": "markdown",
   "id": "b57bd3f8",
   "metadata": {},
   "source": [
    "Задание 2\n",
    "Напишите функцию, которая будет удалять все последовательные повторы слов из заданной строки при помощи регулярных выражений.\n",
    "\n",
    "Пример работы программы:\n",
    "\n",
    "some_string = 'Напишите функцию функцию, которая будет будет будет будет удалять все все все все последовательные повторы слов из из из из заданной строки строки при помощи регулярных выражений.'\n",
    "\n",
    "Результат:\n",
    "Напишите функцию, которая будет удалять все последовательные повторы слов из заданной строки при помощи регулярных выражений."
   ]
  },
  {
   "cell_type": "code",
   "execution_count": 137,
   "id": "0608e6c3",
   "metadata": {},
   "outputs": [],
   "source": [
    "some_string = 'Напишите функцию функцию, которая будет будет будет будет удалять все все все все последовательные повторы слов из из из из заданной строки строки при помощи регулярных выражений.'\n"
   ]
  },
  {
   "cell_type": "code",
   "execution_count": 16,
   "id": "230b9ed7",
   "metadata": {},
   "outputs": [],
   "source": [
    "import re\n",
    "def remove_repeats(string):\n",
    "   return re.sub(r\"(\\w+)(\\s\\1)+\", r\"\\1\", string)"
   ]
  },
  {
   "cell_type": "code",
   "execution_count": 20,
   "id": "bbc23983",
   "metadata": {},
   "outputs": [
    {
     "data": {
      "text/plain": [
       "'Напишите функцию, которая будет удалять все последовательные повторы слов из заданной строки при помощи регулярных выражений.'"
      ]
     },
     "execution_count": 20,
     "metadata": {},
     "output_type": "execute_result"
    }
   ],
   "source": [
    "some_string = 'Напишите функцию функцию, которая будет будет будет будет удалять все все все все последовательные повторы слов из из из из заданной строки строки при помощи регулярных выражений.'\n",
    "delete_duplicate_words(some_string)"
   ]
  },
  {
   "cell_type": "code",
   "execution_count": 18,
   "id": "2fbd2fda",
   "metadata": {},
   "outputs": [],
   "source": [
    "import re\n",
    "def remove_repeats(string):\n",
    "   return re.sub(r\"(\\w+)(\\s\\1)+\", r\"\\1\", string)"
   ]
  },
  {
   "cell_type": "code",
   "execution_count": 19,
   "id": "3e766f90",
   "metadata": {},
   "outputs": [
    {
     "data": {
      "text/plain": [
       "'Напишите функцию, которая будет удалять все последовательные повторы'"
      ]
     },
     "execution_count": 19,
     "metadata": {},
     "output_type": "execute_result"
    }
   ],
   "source": [
    "remove_repeats('Напишите функцию функцию, которая будет будет будет будет удалять все все все все последовательные повторы')"
   ]
  },
  {
   "cell_type": "markdown",
   "id": "bdf44ed1",
   "metadata": {},
   "source": [
    "Задание 3\n",
    "Напишите функцию, которая будет возвращать акроним по переданной в нее строке со словами.\n",
    "\n",
    "Примеры работы программы:\n",
    "\n",
    "some_words = 'Информационные технологии'\n",
    "Результат: ИТ\n",
    "\n",
    "some_words = 'Near Field Communication'\n",
    "Результат: NFC"
   ]
  },
  {
   "cell_type": "code",
   "execution_count": 5,
   "id": "74bd43a2",
   "metadata": {},
   "outputs": [],
   "source": [
    "def acronym(some_words):\n",
    "    '''\n",
    "    Функция будет возвращать акроним по переданной в нее строке со словами\n",
    "    '''\n",
    "    import re\n",
    "    some_string_acronym = re.sub(r'\\b(\\w)\\w+|.', r'\\1', some_words)\n",
    "    return some_string_acronym.upper()                     "
   ]
  },
  {
   "cell_type": "code",
   "execution_count": 527,
   "id": "3d5b96ca",
   "metadata": {},
   "outputs": [
    {
     "data": {
      "text/plain": [
       "'ИТ'"
      ]
     },
     "execution_count": 527,
     "metadata": {},
     "output_type": "execute_result"
    }
   ],
   "source": [
    "some_words = 'Информационные технологии' \n",
    "acronym(some_words)"
   ]
  },
  {
   "cell_type": "code",
   "execution_count": 528,
   "id": "3ff7876d",
   "metadata": {},
   "outputs": [
    {
     "data": {
      "text/plain": [
       "'NFC'"
      ]
     },
     "execution_count": 528,
     "metadata": {},
     "output_type": "execute_result"
    }
   ],
   "source": [
    "some_words = 'Near Field Communication'\n",
    "acronym(some_words)"
   ]
  },
  {
   "cell_type": "markdown",
   "id": "49f7577a",
   "metadata": {},
   "source": [
    "Задание 4\n",
    "\n",
    "Напишите функцию, которая будет принимать на вход список email-адресов и выводить их распределение по доменным зонам.\n",
    "\n",
    "Пример работы программы:\n",
    "\n",
    "emails = ['test@gmail.com', 'xyz@test.in', 'test@ya.ru', 'xyz@mail.ru', 'xyz@ya.ru', 'xyz@gmail.com']\n",
    "\n",
    "Результат:\n",
    "\n",
    "gmail.com: 2\n",
    "test.in: 1 \n",
    "ya.ru: 2 \n",
    "mail.ru: 1"
   ]
  },
  {
   "cell_type": "code",
   "execution_count": 791,
   "id": "7dc096f9",
   "metadata": {},
   "outputs": [],
   "source": [
    "def count_domens_from_emails(emails):\n",
    "    import re\n",
    "    result = ''\n",
    "    domens_dict={}\n",
    "    for i in emails:\n",
    "        # отделяем от emaila все, что находится после @\n",
    "        key = re.findall(r'(?<=@)\\w+.\\w+', i)[0]\n",
    "        # проверяем, есть с ключом key значение в словаре. Если нет то создаем его, если есть, то увеличиваем на 1\n",
    "        check = domens_dict.get(key,False)\n",
    "        if check:\n",
    "            domens_dict[key] += 1 \n",
    "        else:\n",
    "            domens_dict[key] = 1\n",
    "    for k, v in domens_dict.items():\n",
    "        print(k, v,sep=':', end=' ')\n",
    "    return"
   ]
  },
  {
   "cell_type": "code",
   "execution_count": 645,
   "id": "e03c5307",
   "metadata": {},
   "outputs": [
    {
     "name": "stdout",
     "output_type": "stream",
     "text": [
      "gmail.com:2 test.in:1 ya.ru:2 mail.ru:1 "
     ]
    },
    {
     "data": {
      "text/plain": [
       "()"
      ]
     },
     "execution_count": 645,
     "metadata": {},
     "output_type": "execute_result"
    }
   ],
   "source": [
    "emails = ['test@gmail.com', 'xyz@test.in', 'test@ya.ru', 'xyz@mail.ru', 'xyz@ya.ru', 'xyz@gmail.com']\n",
    "count_domens_from_emails(emails)"
   ]
  },
  {
   "cell_type": "markdown",
   "id": "ffac7dbd",
   "metadata": {},
   "source": [
    "Задание 5 (необязательное)\n",
    "Напишите функцию, которая будет подсчитывать сколько слов начинается на гласные, а сколько на согласные буквы в тексте (текст может быть написан как с использованием букв кириллицы, так и латиницы).\n",
    "\n",
    "Пример работы программы:\n",
    "\n",
    "some_text = 'Эталонной реализацией Python является интерпретатор CPython, поддерживающий большинство активно используемых платформ. Он распространяется под свободной лицензией Python Software Foundation License, позволяющей использовать его без ограничений в любых приложениях, включая проприетарные.'\n",
    "\n",
    "Результат:\n",
    "\n",
    "Слов на гласные буквы: 9\n",
    "Слов на согласные буквы: 21 \n"
   ]
  },
  {
   "cell_type": "code",
   "execution_count": 828,
   "id": "5204fcf7",
   "metadata": {},
   "outputs": [],
   "source": [
    "def count_letters(some_text):\n",
    "    result_glas = re.findall(r'\\b[аеёийоуэюяАЕЁИЙОУЭЮЯaeiouAEIOU]', some_text)\n",
    "    result_soglas = re.findall(r'\\b[^аеёийоуэюяАЕЁИЙОУЭЮЯaeiouAEIOU\\.\\, ]', some_text)\n",
    "    print('Слов на гласные буквы:', len(result_glas),'Слов на согласные буквы:',len(result_soglas))\n",
    "    return"
   ]
  },
  {
   "cell_type": "code",
   "execution_count": 829,
   "id": "2f022cf9",
   "metadata": {},
   "outputs": [
    {
     "name": "stdout",
     "output_type": "stream",
     "text": [
      "Слов на гласные буквы: 9 Слов на согласные буквы: 21\n"
     ]
    }
   ],
   "source": [
    "some_text = 'Эталонной реализацией Python является интерпретатор CPython, поддерживающий большинство активно используемых платформ. Он распространяется под свободной лицензией Python Software Foundation License, позволяющей использовать его без ограничений в любых приложениях, включая проприетарные.'\n",
    "count_letters(some_text)"
   ]
  },
  {
   "cell_type": "markdown",
   "id": "b1d1e3ed",
   "metadata": {},
   "source": [
    "Задание 6 (необязательное)\n",
    "Напишите функцию, которая будет проверять номер сотового телефона на валидность (только для российского формата), если он валиден, то переводить его в формат:\n",
    "+7-xxx-xxx-xx-xx\n",
    "Постарайтесь предусмотреть как можно больше адекватных форматов изначального ввода номера. Примеры работы программы:\n",
    "\n",
    "phone = '+7 955 555-55-55'\n",
    "Результат: +7-955-555-55-55\n",
    "\n",
    "phone = '8(955)555-55-55'\n",
    "Результат: +7-955-555-55-55\n",
    "\n",
    "phone = '+7 955 555 55 55'\n",
    "Результат: +7-955-555-55-55\n",
    "\n",
    "phone = '7(955) 555-55-55'\n",
    "Результат: +7-955-555-55-55\n",
    "\n",
    "phone = '423-555-55-5555'\n",
    "Результат: Номер не валиден\n",
    "\n",
    "phone = '123-456-789'\n",
    "Результат: Номер не валиден"
   ]
  },
  {
   "cell_type": "code",
   "execution_count": 1746,
   "id": "1b6d1a26",
   "metadata": {},
   "outputs": [],
   "source": [
    "def check_phone_number(phone):\n",
    "    '''\n",
    "    функция принимает номер сотового телефона и проверяет его на валидность.\n",
    "    Если телефон валиден, то переводит его в формат +7-xxx-xxx-xx-xx \n",
    "    '''\n",
    "    import re\n",
    "    pattern = r'((\\+)?)([78])([\\s|\\(])([0-9]{3})([\\s|\\)]{1,2})([0-9]{3})([\\s|-])([0-9]{2})([\\s|-])([0-9]{2}\\b)'\n",
    "    if re.match(pattern,phone):   \n",
    "        print(re.sub(pattern,r'+7-\\5-\\7-\\9-\\11',phone) )\n",
    "    else:\n",
    "        print('Номер не валиден')\n",
    "    return    \n",
    "        "
   ]
  },
  {
   "cell_type": "code",
   "execution_count": 1747,
   "id": "90395aa0",
   "metadata": {},
   "outputs": [
    {
     "name": "stdout",
     "output_type": "stream",
     "text": [
      "+7-955-555-55-55\n"
     ]
    }
   ],
   "source": [
    "phone = '+7 955 555-55-55'\n",
    "check_phone_number(phone)"
   ]
  },
  {
   "cell_type": "code",
   "execution_count": 1748,
   "id": "88abc8c3",
   "metadata": {},
   "outputs": [
    {
     "name": "stdout",
     "output_type": "stream",
     "text": [
      "+7-955-555-55-55\n"
     ]
    }
   ],
   "source": [
    "phone = '8(955)555-55-55' \n",
    "check_phone_number(phone)"
   ]
  },
  {
   "cell_type": "code",
   "execution_count": 1749,
   "id": "cf4f05bf",
   "metadata": {},
   "outputs": [
    {
     "name": "stdout",
     "output_type": "stream",
     "text": [
      "+7-955-555-55-55\n"
     ]
    }
   ],
   "source": [
    "phone = '+7 955 555 55 55'\n",
    "check_phone_number(phone)"
   ]
  },
  {
   "cell_type": "code",
   "execution_count": 1750,
   "id": "da01d4f5",
   "metadata": {},
   "outputs": [
    {
     "name": "stdout",
     "output_type": "stream",
     "text": [
      "+7-955-555-55-55\n"
     ]
    }
   ],
   "source": [
    "phone = '7(955) 555-55-55' \n",
    "check_phone_number(phone)"
   ]
  },
  {
   "cell_type": "code",
   "execution_count": 1751,
   "id": "60eb9182",
   "metadata": {},
   "outputs": [
    {
     "name": "stdout",
     "output_type": "stream",
     "text": [
      "Номер не валиден\n"
     ]
    }
   ],
   "source": [
    "phone = '423-555-55-5555'\n",
    "check_phone_number(phone)"
   ]
  },
  {
   "cell_type": "code",
   "execution_count": 1752,
   "id": "6cde3709",
   "metadata": {},
   "outputs": [
    {
     "name": "stdout",
     "output_type": "stream",
     "text": [
      "Номер не валиден\n"
     ]
    }
   ],
   "source": [
    "phone = '123-456-789'\n",
    "check_phone_number(phone)"
   ]
  },
  {
   "cell_type": "code",
   "execution_count": null,
   "id": "416f4c80",
   "metadata": {},
   "outputs": [],
   "source": []
  }
 ],
 "metadata": {
  "kernelspec": {
   "display_name": "Python 3",
   "language": "python",
   "name": "python3"
  },
  "language_info": {
   "codemirror_mode": {
    "name": "ipython",
    "version": 3
   },
   "file_extension": ".py",
   "mimetype": "text/x-python",
   "name": "python",
   "nbconvert_exporter": "python",
   "pygments_lexer": "ipython3",
   "version": "3.8.8"
  }
 },
 "nbformat": 4,
 "nbformat_minor": 5
}
