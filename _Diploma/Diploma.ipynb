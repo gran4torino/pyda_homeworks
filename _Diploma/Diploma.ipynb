{
 "cells": [
  {
   "cell_type": "markdown",
   "id": "2cc0307a",
   "metadata": {},
   "source": [
    "Задание\n",
    "Дан файл HR.csv с данными по опросу уровня удовлетворенности сотрудниками работой.\n",
    "Файл доступен тут -\n",
    "https://drive.google.com/file/d/1INgo03nal-vwFJe7Lec5vOUtOwfJdUr1/view?usp=sharing\n",
    "Признаки:\n",
    "1. **satisfaction_level** - Уровень удовлетворенности работой\n",
    "2. **Last_evaluation** - Время с момента последней оценки в годах\n",
    "3. **number_projects** - Количество проектов, выполненных за время работы\n",
    "4. **average_monthly_hours** - Среднее количество часов на рабочем месте в месяц\n",
    "5. **time_spend_company** - Стаж работы в компании в годах\n",
    "6. **work_accident** - Происходили ли несчастные случаи на рабочем месте с сотрудником\n",
    "7. **left** - уволился ли сотрудник\n",
    "8. **promotion_last_5years** - повышался ли сотрудник за последние пять лет\n",
    "9. **department** - отдел в котором работает сотрудник\n",
    "10. **salary** - относительный уровень зарплаты"
   ]
  },
  {
   "cell_type": "code",
   "execution_count": 361,
   "id": "6507c5b8",
   "metadata": {},
   "outputs": [],
   "source": [
    "import pandas as pd"
   ]
  },
  {
   "cell_type": "code",
   "execution_count": 362,
   "id": "3b841303",
   "metadata": {
    "scrolled": true
   },
   "outputs": [
    {
     "data": {
      "text/html": [
       "<div>\n",
       "<style scoped>\n",
       "    .dataframe tbody tr th:only-of-type {\n",
       "        vertical-align: middle;\n",
       "    }\n",
       "\n",
       "    .dataframe tbody tr th {\n",
       "        vertical-align: top;\n",
       "    }\n",
       "\n",
       "    .dataframe thead th {\n",
       "        text-align: right;\n",
       "    }\n",
       "</style>\n",
       "<table border=\"1\" class=\"dataframe\">\n",
       "  <thead>\n",
       "    <tr style=\"text-align: right;\">\n",
       "      <th></th>\n",
       "      <th>satisfaction_level</th>\n",
       "      <th>last_evaluation</th>\n",
       "      <th>number_project</th>\n",
       "      <th>average_montly_hours</th>\n",
       "      <th>time_spend_company</th>\n",
       "      <th>Work_accident</th>\n",
       "      <th>left</th>\n",
       "      <th>promotion_last_5years</th>\n",
       "      <th>department</th>\n",
       "      <th>salary</th>\n",
       "    </tr>\n",
       "  </thead>\n",
       "  <tbody>\n",
       "    <tr>\n",
       "      <th>0</th>\n",
       "      <td>0.38</td>\n",
       "      <td>0.53</td>\n",
       "      <td>2</td>\n",
       "      <td>157</td>\n",
       "      <td>3</td>\n",
       "      <td>0</td>\n",
       "      <td>1</td>\n",
       "      <td>0</td>\n",
       "      <td>sales</td>\n",
       "      <td>low</td>\n",
       "    </tr>\n",
       "    <tr>\n",
       "      <th>1</th>\n",
       "      <td>0.80</td>\n",
       "      <td>0.86</td>\n",
       "      <td>5</td>\n",
       "      <td>262</td>\n",
       "      <td>6</td>\n",
       "      <td>0</td>\n",
       "      <td>1</td>\n",
       "      <td>0</td>\n",
       "      <td>sales</td>\n",
       "      <td>medium</td>\n",
       "    </tr>\n",
       "    <tr>\n",
       "      <th>2</th>\n",
       "      <td>0.11</td>\n",
       "      <td>0.88</td>\n",
       "      <td>7</td>\n",
       "      <td>272</td>\n",
       "      <td>4</td>\n",
       "      <td>0</td>\n",
       "      <td>1</td>\n",
       "      <td>0</td>\n",
       "      <td>sales</td>\n",
       "      <td>medium</td>\n",
       "    </tr>\n",
       "    <tr>\n",
       "      <th>3</th>\n",
       "      <td>0.72</td>\n",
       "      <td>0.87</td>\n",
       "      <td>5</td>\n",
       "      <td>223</td>\n",
       "      <td>5</td>\n",
       "      <td>0</td>\n",
       "      <td>1</td>\n",
       "      <td>0</td>\n",
       "      <td>sales</td>\n",
       "      <td>low</td>\n",
       "    </tr>\n",
       "    <tr>\n",
       "      <th>4</th>\n",
       "      <td>0.37</td>\n",
       "      <td>0.52</td>\n",
       "      <td>2</td>\n",
       "      <td>159</td>\n",
       "      <td>3</td>\n",
       "      <td>0</td>\n",
       "      <td>1</td>\n",
       "      <td>0</td>\n",
       "      <td>sales</td>\n",
       "      <td>low</td>\n",
       "    </tr>\n",
       "  </tbody>\n",
       "</table>\n",
       "</div>"
      ],
      "text/plain": [
       "   satisfaction_level  last_evaluation  number_project  average_montly_hours  \\\n",
       "0                0.38             0.53               2                   157   \n",
       "1                0.80             0.86               5                   262   \n",
       "2                0.11             0.88               7                   272   \n",
       "3                0.72             0.87               5                   223   \n",
       "4                0.37             0.52               2                   159   \n",
       "\n",
       "   time_spend_company  Work_accident  left  promotion_last_5years department  \\\n",
       "0                   3              0     1                      0      sales   \n",
       "1                   6              0     1                      0      sales   \n",
       "2                   4              0     1                      0      sales   \n",
       "3                   5              0     1                      0      sales   \n",
       "4                   3              0     1                      0      sales   \n",
       "\n",
       "   salary  \n",
       "0     low  \n",
       "1  medium  \n",
       "2  medium  \n",
       "3     low  \n",
       "4     low  "
      ]
     },
     "execution_count": 362,
     "metadata": {},
     "output_type": "execute_result"
    }
   ],
   "source": [
    "#Загрузите файл HR.csv в pandas dataframe\n",
    "df = pd.read_csv('HR.csv')\n",
    "df.head()"
   ]
  },
  {
   "cell_type": "markdown",
   "id": "5318c6b0",
   "metadata": {},
   "source": [
    "## Рассчитайте основные статистики для переменных\n",
    "### (среднее,медиана,мода,мин/макс,сред.отклонение)\n"
   ]
  },
  {
   "cell_type": "markdown",
   "id": "5890e131",
   "metadata": {},
   "source": [
    "Все основные статистики для переменных есть в таблице ниже.\n",
    "\n",
    "Применяются к количественных переменным (первые пять столбцов): \n",
    "\n",
    "среднее - 50%\n",
    "\n",
    "медианa -mean\n",
    "\n",
    "минимальное значение -min\n",
    "\n",
    "макcимальное значение - max\n",
    "\n",
    "среднеквадратичное отклонение - std\n",
    "\n"
   ]
  },
  {
   "cell_type": "code",
   "execution_count": 363,
   "id": "852e2bfe",
   "metadata": {},
   "outputs": [
    {
     "data": {
      "text/html": [
       "<div>\n",
       "<style scoped>\n",
       "    .dataframe tbody tr th:only-of-type {\n",
       "        vertical-align: middle;\n",
       "    }\n",
       "\n",
       "    .dataframe tbody tr th {\n",
       "        vertical-align: top;\n",
       "    }\n",
       "\n",
       "    .dataframe thead th {\n",
       "        text-align: right;\n",
       "    }\n",
       "</style>\n",
       "<table border=\"1\" class=\"dataframe\">\n",
       "  <thead>\n",
       "    <tr style=\"text-align: right;\">\n",
       "      <th></th>\n",
       "      <th>satisfaction_level</th>\n",
       "      <th>last_evaluation</th>\n",
       "      <th>number_project</th>\n",
       "      <th>average_montly_hours</th>\n",
       "      <th>time_spend_company</th>\n",
       "    </tr>\n",
       "  </thead>\n",
       "  <tbody>\n",
       "    <tr>\n",
       "      <th>count</th>\n",
       "      <td>14999.000000</td>\n",
       "      <td>14999.000000</td>\n",
       "      <td>14999.000000</td>\n",
       "      <td>14999.000000</td>\n",
       "      <td>14999.000000</td>\n",
       "    </tr>\n",
       "    <tr>\n",
       "      <th>mean</th>\n",
       "      <td>0.612834</td>\n",
       "      <td>0.716102</td>\n",
       "      <td>3.803054</td>\n",
       "      <td>201.050337</td>\n",
       "      <td>3.498233</td>\n",
       "    </tr>\n",
       "    <tr>\n",
       "      <th>std</th>\n",
       "      <td>0.248631</td>\n",
       "      <td>0.171169</td>\n",
       "      <td>1.232592</td>\n",
       "      <td>49.943099</td>\n",
       "      <td>1.460136</td>\n",
       "    </tr>\n",
       "    <tr>\n",
       "      <th>min</th>\n",
       "      <td>0.090000</td>\n",
       "      <td>0.360000</td>\n",
       "      <td>2.000000</td>\n",
       "      <td>96.000000</td>\n",
       "      <td>2.000000</td>\n",
       "    </tr>\n",
       "    <tr>\n",
       "      <th>25%</th>\n",
       "      <td>0.440000</td>\n",
       "      <td>0.560000</td>\n",
       "      <td>3.000000</td>\n",
       "      <td>156.000000</td>\n",
       "      <td>3.000000</td>\n",
       "    </tr>\n",
       "    <tr>\n",
       "      <th>50%</th>\n",
       "      <td>0.640000</td>\n",
       "      <td>0.720000</td>\n",
       "      <td>4.000000</td>\n",
       "      <td>200.000000</td>\n",
       "      <td>3.000000</td>\n",
       "    </tr>\n",
       "    <tr>\n",
       "      <th>75%</th>\n",
       "      <td>0.820000</td>\n",
       "      <td>0.870000</td>\n",
       "      <td>5.000000</td>\n",
       "      <td>245.000000</td>\n",
       "      <td>4.000000</td>\n",
       "    </tr>\n",
       "    <tr>\n",
       "      <th>max</th>\n",
       "      <td>1.000000</td>\n",
       "      <td>1.000000</td>\n",
       "      <td>7.000000</td>\n",
       "      <td>310.000000</td>\n",
       "      <td>10.000000</td>\n",
       "    </tr>\n",
       "  </tbody>\n",
       "</table>\n",
       "</div>"
      ],
      "text/plain": [
       "       satisfaction_level  last_evaluation  number_project  \\\n",
       "count        14999.000000     14999.000000    14999.000000   \n",
       "mean             0.612834         0.716102        3.803054   \n",
       "std              0.248631         0.171169        1.232592   \n",
       "min              0.090000         0.360000        2.000000   \n",
       "25%              0.440000         0.560000        3.000000   \n",
       "50%              0.640000         0.720000        4.000000   \n",
       "75%              0.820000         0.870000        5.000000   \n",
       "max              1.000000         1.000000        7.000000   \n",
       "\n",
       "       average_montly_hours  time_spend_company  \n",
       "count          14999.000000        14999.000000  \n",
       "mean             201.050337            3.498233  \n",
       "std               49.943099            1.460136  \n",
       "min               96.000000            2.000000  \n",
       "25%              156.000000            3.000000  \n",
       "50%              200.000000            3.000000  \n",
       "75%              245.000000            4.000000  \n",
       "max              310.000000           10.000000  "
      ]
     },
     "execution_count": 363,
     "metadata": {},
     "output_type": "execute_result"
    }
   ],
   "source": [
    "df.iloc[:,:5].describe()"
   ]
  },
  {
   "cell_type": "markdown",
   "id": "ed6cfdca",
   "metadata": {},
   "source": [
    "**Значение моды для  кaтегориальных переменных (последние пять столбцов в таблице):**\n"
   ]
  },
  {
   "cell_type": "code",
   "execution_count": 364,
   "id": "b4b32395",
   "metadata": {},
   "outputs": [
    {
     "data": {
      "text/html": [
       "<div>\n",
       "<style scoped>\n",
       "    .dataframe tbody tr th:only-of-type {\n",
       "        vertical-align: middle;\n",
       "    }\n",
       "\n",
       "    .dataframe tbody tr th {\n",
       "        vertical-align: top;\n",
       "    }\n",
       "\n",
       "    .dataframe thead th {\n",
       "        text-align: right;\n",
       "    }\n",
       "</style>\n",
       "<table border=\"1\" class=\"dataframe\">\n",
       "  <thead>\n",
       "    <tr style=\"text-align: right;\">\n",
       "      <th></th>\n",
       "      <th>Work_accident</th>\n",
       "      <th>left</th>\n",
       "      <th>promotion_last_5years</th>\n",
       "      <th>department</th>\n",
       "      <th>salary</th>\n",
       "    </tr>\n",
       "  </thead>\n",
       "  <tbody>\n",
       "    <tr>\n",
       "      <th>0</th>\n",
       "      <td>0</td>\n",
       "      <td>0</td>\n",
       "      <td>0</td>\n",
       "      <td>sales</td>\n",
       "      <td>low</td>\n",
       "    </tr>\n",
       "  </tbody>\n",
       "</table>\n",
       "</div>"
      ],
      "text/plain": [
       "   Work_accident  left  promotion_last_5years department salary\n",
       "0              0     0                      0      sales    low"
      ]
     },
     "execution_count": 364,
     "metadata": {},
     "output_type": "execute_result"
    }
   ],
   "source": [
    "df.iloc[:,5:10].mode()"
   ]
  },
  {
   "cell_type": "markdown",
   "id": "56edb6da",
   "metadata": {},
   "source": [
    "## Рассчитайте и визуализировать корреляционную матрицу для количественных переменных.\n",
    "### Определите две самые скоррелированные и две наименее скоррелированные переменные."
   ]
  },
  {
   "cell_type": "code",
   "execution_count": 365,
   "id": "d1f39d4b",
   "metadata": {},
   "outputs": [
    {
     "data": {
      "text/html": [
       "<div>\n",
       "<style scoped>\n",
       "    .dataframe tbody tr th:only-of-type {\n",
       "        vertical-align: middle;\n",
       "    }\n",
       "\n",
       "    .dataframe tbody tr th {\n",
       "        vertical-align: top;\n",
       "    }\n",
       "\n",
       "    .dataframe thead th {\n",
       "        text-align: right;\n",
       "    }\n",
       "</style>\n",
       "<table border=\"1\" class=\"dataframe\">\n",
       "  <thead>\n",
       "    <tr style=\"text-align: right;\">\n",
       "      <th></th>\n",
       "      <th>satisfaction_level</th>\n",
       "      <th>last_evaluation</th>\n",
       "      <th>number_project</th>\n",
       "      <th>average_montly_hours</th>\n",
       "      <th>time_spend_company</th>\n",
       "    </tr>\n",
       "  </thead>\n",
       "  <tbody>\n",
       "    <tr>\n",
       "      <th>satisfaction_level</th>\n",
       "      <td>1.000000</td>\n",
       "      <td>0.105021</td>\n",
       "      <td>-0.142970</td>\n",
       "      <td>-0.020048</td>\n",
       "      <td>-0.100866</td>\n",
       "    </tr>\n",
       "    <tr>\n",
       "      <th>last_evaluation</th>\n",
       "      <td>0.105021</td>\n",
       "      <td>1.000000</td>\n",
       "      <td>0.349333</td>\n",
       "      <td>0.339742</td>\n",
       "      <td>0.131591</td>\n",
       "    </tr>\n",
       "    <tr>\n",
       "      <th>number_project</th>\n",
       "      <td>-0.142970</td>\n",
       "      <td>0.349333</td>\n",
       "      <td>1.000000</td>\n",
       "      <td>0.417211</td>\n",
       "      <td>0.196786</td>\n",
       "    </tr>\n",
       "    <tr>\n",
       "      <th>average_montly_hours</th>\n",
       "      <td>-0.020048</td>\n",
       "      <td>0.339742</td>\n",
       "      <td>0.417211</td>\n",
       "      <td>1.000000</td>\n",
       "      <td>0.127755</td>\n",
       "    </tr>\n",
       "    <tr>\n",
       "      <th>time_spend_company</th>\n",
       "      <td>-0.100866</td>\n",
       "      <td>0.131591</td>\n",
       "      <td>0.196786</td>\n",
       "      <td>0.127755</td>\n",
       "      <td>1.000000</td>\n",
       "    </tr>\n",
       "  </tbody>\n",
       "</table>\n",
       "</div>"
      ],
      "text/plain": [
       "                      satisfaction_level  last_evaluation  number_project  \\\n",
       "satisfaction_level              1.000000         0.105021       -0.142970   \n",
       "last_evaluation                 0.105021         1.000000        0.349333   \n",
       "number_project                 -0.142970         0.349333        1.000000   \n",
       "average_montly_hours           -0.020048         0.339742        0.417211   \n",
       "time_spend_company             -0.100866         0.131591        0.196786   \n",
       "\n",
       "                      average_montly_hours  time_spend_company  \n",
       "satisfaction_level               -0.020048           -0.100866  \n",
       "last_evaluation                   0.339742            0.131591  \n",
       "number_project                    0.417211            0.196786  \n",
       "average_montly_hours              1.000000            0.127755  \n",
       "time_spend_company                0.127755            1.000000  "
      ]
     },
     "execution_count": 365,
     "metadata": {},
     "output_type": "execute_result"
    }
   ],
   "source": [
    "#расчитаем коэффициенты корреляции для количественных переменных (первые пять столбцов)\n",
    "df.iloc[:,:5].corr()"
   ]
  },
  {
   "cell_type": "code",
   "execution_count": 366,
   "id": "922bb423",
   "metadata": {},
   "outputs": [
    {
     "data": {
      "text/plain": [
       "<AxesSubplot:title={'center':'Тепловая карта корреляционной матрицы'}>"
      ]
     },
     "execution_count": 366,
     "metadata": {},
     "output_type": "execute_result"
    },
    {
     "data": {
      "image/png": "[encoded data removed]",
      "text/plain": [
       "<Figure size 432x288 with 2 Axes>"
      ]
     },
     "metadata": {
      "needs_background": "light"
     },
     "output_type": "display_data"
    }
   ],
   "source": [
    "#выведем визуализацию heatmap корреляционной матрицы\n",
    "import seaborn as sns\n",
    "import matplotlib.pyplot as plt\n",
    "plt.title('Тепловая карта корреляционной матрицы')\n",
    "sns.heatmap(df.iloc[:,:5].corr(),annot = True, fmt ='.3g',vmin=-1, vmax=1, center = 0)"
   ]
  },
  {
   "cell_type": "markdown",
   "id": "8a404cff",
   "metadata": {},
   "source": [
    "**Две самые скореллированные переменные**: average_montly_hours и number_project (коэф.корреляции 0.417)\n",
    "\n",
    "**Две наименее скоррелированные переменные** average_montly_hours и satisfaction_level (коэф.корреляции -0.02)\n"
   ]
  },
  {
   "cell_type": "markdown",
   "id": "7cb588bd",
   "metadata": {},
   "source": [
    "## Рассчитайте сколько сотрудников работает в каждом департаменте."
   ]
  },
  {
   "cell_type": "code",
   "execution_count": 367,
   "id": "bca4251e",
   "metadata": {},
   "outputs": [
    {
     "data": {
      "text/html": [
       "<div>\n",
       "<style scoped>\n",
       "    .dataframe tbody tr th:only-of-type {\n",
       "        vertical-align: middle;\n",
       "    }\n",
       "\n",
       "    .dataframe tbody tr th {\n",
       "        vertical-align: top;\n",
       "    }\n",
       "\n",
       "    .dataframe thead th {\n",
       "        text-align: right;\n",
       "    }\n",
       "</style>\n",
       "<table border=\"1\" class=\"dataframe\">\n",
       "  <thead>\n",
       "    <tr style=\"text-align: right;\">\n",
       "      <th></th>\n",
       "      <th>Кол-во сотрудников</th>\n",
       "    </tr>\n",
       "    <tr>\n",
       "      <th>department</th>\n",
       "      <th></th>\n",
       "    </tr>\n",
       "  </thead>\n",
       "  <tbody>\n",
       "    <tr>\n",
       "      <th>IT</th>\n",
       "      <td>954</td>\n",
       "    </tr>\n",
       "    <tr>\n",
       "      <th>RandD</th>\n",
       "      <td>666</td>\n",
       "    </tr>\n",
       "    <tr>\n",
       "      <th>accounting</th>\n",
       "      <td>563</td>\n",
       "    </tr>\n",
       "    <tr>\n",
       "      <th>hr</th>\n",
       "      <td>524</td>\n",
       "    </tr>\n",
       "    <tr>\n",
       "      <th>management</th>\n",
       "      <td>539</td>\n",
       "    </tr>\n",
       "    <tr>\n",
       "      <th>marketing</th>\n",
       "      <td>655</td>\n",
       "    </tr>\n",
       "    <tr>\n",
       "      <th>product_mng</th>\n",
       "      <td>704</td>\n",
       "    </tr>\n",
       "    <tr>\n",
       "      <th>sales</th>\n",
       "      <td>3126</td>\n",
       "    </tr>\n",
       "    <tr>\n",
       "      <th>support</th>\n",
       "      <td>1674</td>\n",
       "    </tr>\n",
       "    <tr>\n",
       "      <th>technical</th>\n",
       "      <td>2023</td>\n",
       "    </tr>\n",
       "  </tbody>\n",
       "</table>\n",
       "</div>"
      ],
      "text/plain": [
       "             Кол-во сотрудников\n",
       "department                     \n",
       "IT                          954\n",
       "RandD                       666\n",
       "accounting                  563\n",
       "hr                          524\n",
       "management                  539\n",
       "marketing                   655\n",
       "product_mng                 704\n",
       "sales                      3126\n",
       "support                    1674\n",
       "technical                  2023"
      ]
     },
     "execution_count": 367,
     "metadata": {},
     "output_type": "execute_result"
    }
   ],
   "source": [
    "df.loc[df['left'] == 0].groupby(by=['department']).count().iloc[:,:1].rename(columns={'satisfaction_level':'Кол-во сотрудников'})"
   ]
  },
  {
   "cell_type": "markdown",
   "id": "c430238f",
   "metadata": {},
   "source": [
    "## Показать распределение сотрудников по зарплатам."
   ]
  },
  {
   "cell_type": "code",
   "execution_count": 368,
   "id": "0c83b5ff",
   "metadata": {},
   "outputs": [
    {
     "data": {
      "text/plain": [
       "<AxesSubplot:title={'center':'Распределение сотрудников по зарплатам'}, xlabel='Уровень зарплаты', ylabel='Кол-во сотрудников'>"
      ]
     },
     "execution_count": 368,
     "metadata": {},
     "output_type": "execute_result"
    },
    {
     "data": {
      "image/png": "[encoded data removed]",
      "text/plain": [
       "<Figure size 432x288 with 1 Axes>"
      ]
     },
     "metadata": {
      "needs_background": "light"
     },
     "output_type": "display_data"
    }
   ],
   "source": [
    "plt.title('Распределение сотрудников по зарплатам')\n",
    "plt.ylabel('Кол-во сотрудников')\n",
    "plt.xlabel('Уровень зарплаты')\n",
    "#оставим только сотрудников, которые в настоящее время работают в компании\n",
    "sns.histplot(data=df.loc[df['left'] == 0], x='salary')"
   ]
  },
  {
   "cell_type": "markdown",
   "id": "9887a5bb",
   "metadata": {},
   "source": [
    "## Показать распределение сотрудников по зарплатам в каждом департаменте по отдельности"
   ]
  },
  {
   "cell_type": "code",
   "execution_count": 369,
   "id": "988095a4",
   "metadata": {},
   "outputs": [
    {
     "data": {
      "image/png": "[encoded data removed]",
      "text/plain": [
       "<Figure size 432x288 with 1 Axes>"
      ]
     },
     "metadata": {
      "needs_background": "light"
     },
     "output_type": "display_data"
    },
    {
     "data": {
      "image/png": "[encoded data removed]",
      "text/plain": [
       "<Figure size 432x288 with 1 Axes>"
      ]
     },
     "metadata": {
      "needs_background": "light"
     },
     "output_type": "display_data"
    },
    {
     "data": {
      "image/png": "[encoded data removed]",
      "text/plain": [
       "<Figure size 432x288 with 1 Axes>"
      ]
     },
     "metadata": {
      "needs_background": "light"
     },
     "output_type": "display_data"
    },
    {
     "data": {
      "image/png": "[encoded data removed]",
      "text/plain": [
       "<Figure size 432x288 with 1 Axes>"
      ]
     },
     "metadata": {
      "needs_background": "light"
     },
     "output_type": "display_data"
    },
    {
     "data": {
      "image/png": "[encoded data removed]",
      "text/plain": [
       "<Figure size 432x288 with 1 Axes>"
      ]
     },
     "metadata": {
      "needs_background": "light"
     },
     "output_type": "display_data"
    },
    {
     "data": {
      "image/png": "[encoded data removed]",
      "text/plain": [
       "<Figure size 432x288 with 1 Axes>"
      ]
     },
     "metadata": {
      "needs_background": "light"
     },
     "output_type": "display_data"
    },
    {
     "data": {
      "image/png": "[encoded data removed]",
      "text/plain": [
       "<Figure size 432x288 with 1 Axes>"
      ]
     },
     "metadata": {
      "needs_background": "light"
     },
     "output_type": "display_data"
    },
    {
     "data": {
      "image/png": "[encoded data removed]",
      "text/plain": [
       "<Figure size 432x288 with 1 Axes>"
      ]
     },
     "metadata": {
      "needs_background": "light"
     },
     "output_type": "display_data"
    },
    {
     "data": {
      "image/png": "[encoded data removed]",
      "text/plain": [
       "<Figure size 432x288 with 1 Axes>"
      ]
     },
     "metadata": {
      "needs_background": "light"
     },
     "output_type": "display_data"
    },
    {
     "data": {
      "image/png": "[encoded data removed]",
      "text/plain": [
       "<Figure size 432x288 with 1 Axes>"
      ]
     },
     "metadata": {
      "needs_background": "light"
     },
     "output_type": "display_data"
    }
   ],
   "source": [
    "for i in df['department'].unique():\n",
    "    #зададим одинаковый порядок вывода уровня зарплат в графиках\n",
    "    df['salary'] = pd.Categorical(df['salary'], ['low','medium','high'])\n",
    "    #оставим только сотрудников, которые в настоящее время работают в компании\n",
    "    sns.histplot(data=df.loc[(df['left'] == 0) & (df['department']==i)], \n",
    "                 x='salary')\n",
    "    text_title = 'Распределение сотрудников по зарплатам. \\n Отдел '+i\n",
    "    plt.title(text_title)\n",
    "    plt.ylabel('Кол-во сотрудников')\n",
    "    plt.xlabel('Уровень зарплаты')\n",
    "    plt.show()"
   ]
  },
  {
   "cell_type": "markdown",
   "id": "41561c70",
   "metadata": {},
   "source": [
    "## Проверить гипотезу, что сотрудники с высоким окладом проводят на работе больше времени, чем сотрудники с низким окладом"
   ]
  },
  {
   "cell_type": "markdown",
   "id": "81a71659",
   "metadata": {},
   "source": [
    "Выдвинем нулевую гипотезу H0, что выборки статистически не различаются.\n",
    "Целевая гипотеза - Н1, что выборки статистически различаются.\n",
    "Применим т-тест Стьюдента"
   ]
  },
  {
   "cell_type": "code",
   "execution_count": 370,
   "id": "4544eeff",
   "metadata": {},
   "outputs": [
    {
     "name": "stdout",
     "output_type": "stream",
     "text": [
      "199.86742118027485\n",
      "201.33834936394663\n",
      "Ttest_indResult(statistic=-0.9876902345946122, pvalue=0.3234385310547564)\n",
      " Выборки статистически не различаются.\n"
     ]
    }
   ],
   "source": [
    "from scipy import stats as st\n",
    "#альфу примем как 5%\n",
    "alpha = 0.05\n",
    "A1 = df[df['salary']== 'high']['average_montly_hours']\n",
    "A2 = df[df['salary']== 'medium']['average_montly_hours']\n",
    "\n",
    "# выдвинем гипотезу\n",
    "H0 = ' Выборки статистически не различаются.'\n",
    "H1 =  'Выборки статистически различаются.'\n",
    "A1_version = 'Сотрудники с высоким окладом проводят на работе больше времени, чем сотрудники с низким окладом'\n",
    "A2_version = 'Сотрудники с низким окладом проводят на работе больше времени, чем сотрудники с высоким окладом'\n",
    "result = st.ttest_ind(A1,A2, equal_var=False)\n",
    "print(A1.mean())\n",
    "print(A2.mean())\n",
    "\n",
    "print(result)\n",
    "\n",
    "if (result.pvalue < alpha):\n",
    "    print(H1)\n",
    "    if result.statistic > 0:\n",
    "        print(A1_version)\n",
    "    else:\n",
    "        print(A2_version)\n",
    "else:\n",
    "    print(H0)\n"
   ]
  },
  {
   "cell_type": "markdown",
   "id": "3a15bb74",
   "metadata": {},
   "source": [
    "p.value (0.323) > alfa (0.05)\n",
    "Оснований отвергнуть нулевую гипотезу нет.\n",
    "\n",
    "**Проверим наши выводы: построим boxplot**"
   ]
  },
  {
   "cell_type": "code",
   "execution_count": 371,
   "id": "f0df095b",
   "metadata": {},
   "outputs": [
    {
     "data": {
      "text/plain": [
       "Text(0.5, 0, 'Уровень зарплаты')"
      ]
     },
     "execution_count": 371,
     "metadata": {},
     "output_type": "execute_result"
    },
    {
     "data": {
      "image/png": "[encoded data removed]",
      "text/plain": [
       "<Figure size 432x288 with 1 Axes>"
      ]
     },
     "metadata": {
      "needs_background": "light"
     },
     "output_type": "display_data"
    }
   ],
   "source": [
    "ax = sns.boxplot(x=\"salary\", y=\"average_montly_hours\",\n",
    "            data=df[(df['salary'] == 'high') | (df['salary'] == 'low')]).set_title('Зависимость времени нахождения на работе от оклада')\n",
    "plt.ylabel('Ср. кол-во часов на рабочем месте в месяц')\n",
    "plt.xlabel('Уровень зарплаты')"
   ]
  },
  {
   "cell_type": "markdown",
   "id": "e1dce3d0",
   "metadata": {},
   "source": [
    "На боксплоте значимых видимых отличий нет.\n",
    "\n",
    "**Сотрудники с высоким окладом проводят на работе статистически столько же времени, как и  сотрудники с низким окладом**"
   ]
  },
  {
   "cell_type": "markdown",
   "id": "c966698e",
   "metadata": {},
   "source": [
    "## Рассчитать следующие показатели среди уволившихся и неуволившихся сотрудников (по отдельности):\n",
    "● Доля сотрудников с повышением за последние 5 лет\n",
    "\n",
    "● Средняя степень удовлетворенности\n",
    "\n",
    "● Среднее количество проектов"
   ]
  },
  {
   "cell_type": "markdown",
   "id": "a981765c",
   "metadata": {},
   "source": [
    "**Посчитаем долю сотрудников с повышением за последние 5 лет**"
   ]
  },
  {
   "cell_type": "code",
   "execution_count": 372,
   "id": "9aab089a",
   "metadata": {},
   "outputs": [
    {
     "data": {
      "text/html": [
       "<div>\n",
       "<style scoped>\n",
       "    .dataframe tbody tr th:only-of-type {\n",
       "        vertical-align: middle;\n",
       "    }\n",
       "\n",
       "    .dataframe tbody tr th {\n",
       "        vertical-align: top;\n",
       "    }\n",
       "\n",
       "    .dataframe thead th {\n",
       "        text-align: right;\n",
       "    }\n",
       "</style>\n",
       "<table border=\"1\" class=\"dataframe\">\n",
       "  <thead>\n",
       "    <tr style=\"text-align: right;\">\n",
       "      <th></th>\n",
       "      <th></th>\n",
       "      <th>satisfaction_level</th>\n",
       "      <th>last_evaluation</th>\n",
       "      <th>number_project</th>\n",
       "      <th>average_montly_hours</th>\n",
       "      <th>time_spend_company</th>\n",
       "      <th>Work_accident</th>\n",
       "      <th>department</th>\n",
       "      <th>salary</th>\n",
       "    </tr>\n",
       "    <tr>\n",
       "      <th>left</th>\n",
       "      <th>promotion_last_5years</th>\n",
       "      <th></th>\n",
       "      <th></th>\n",
       "      <th></th>\n",
       "      <th></th>\n",
       "      <th></th>\n",
       "      <th></th>\n",
       "      <th></th>\n",
       "      <th></th>\n",
       "    </tr>\n",
       "  </thead>\n",
       "  <tbody>\n",
       "    <tr>\n",
       "      <th rowspan=\"2\" valign=\"top\">0</th>\n",
       "      <th>0</th>\n",
       "      <td>11128</td>\n",
       "      <td>11128</td>\n",
       "      <td>11128</td>\n",
       "      <td>11128</td>\n",
       "      <td>11128</td>\n",
       "      <td>11128</td>\n",
       "      <td>11128</td>\n",
       "      <td>11128</td>\n",
       "    </tr>\n",
       "    <tr>\n",
       "      <th>1</th>\n",
       "      <td>300</td>\n",
       "      <td>300</td>\n",
       "      <td>300</td>\n",
       "      <td>300</td>\n",
       "      <td>300</td>\n",
       "      <td>300</td>\n",
       "      <td>300</td>\n",
       "      <td>300</td>\n",
       "    </tr>\n",
       "    <tr>\n",
       "      <th rowspan=\"2\" valign=\"top\">1</th>\n",
       "      <th>0</th>\n",
       "      <td>3552</td>\n",
       "      <td>3552</td>\n",
       "      <td>3552</td>\n",
       "      <td>3552</td>\n",
       "      <td>3552</td>\n",
       "      <td>3552</td>\n",
       "      <td>3552</td>\n",
       "      <td>3552</td>\n",
       "    </tr>\n",
       "    <tr>\n",
       "      <th>1</th>\n",
       "      <td>19</td>\n",
       "      <td>19</td>\n",
       "      <td>19</td>\n",
       "      <td>19</td>\n",
       "      <td>19</td>\n",
       "      <td>19</td>\n",
       "      <td>19</td>\n",
       "      <td>19</td>\n",
       "    </tr>\n",
       "  </tbody>\n",
       "</table>\n",
       "</div>"
      ],
      "text/plain": [
       "                            satisfaction_level  last_evaluation  \\\n",
       "left promotion_last_5years                                        \n",
       "0    0                                   11128            11128   \n",
       "     1                                     300              300   \n",
       "1    0                                    3552             3552   \n",
       "     1                                      19               19   \n",
       "\n",
       "                            number_project  average_montly_hours  \\\n",
       "left promotion_last_5years                                         \n",
       "0    0                               11128                 11128   \n",
       "     1                                 300                   300   \n",
       "1    0                                3552                  3552   \n",
       "     1                                  19                    19   \n",
       "\n",
       "                            time_spend_company  Work_accident  department  \\\n",
       "left promotion_last_5years                                                  \n",
       "0    0                                   11128          11128       11128   \n",
       "     1                                     300            300         300   \n",
       "1    0                                    3552           3552        3552   \n",
       "     1                                      19             19          19   \n",
       "\n",
       "                            salary  \n",
       "left promotion_last_5years          \n",
       "0    0                       11128  \n",
       "     1                         300  \n",
       "1    0                        3552  \n",
       "     1                          19  "
      ]
     },
     "execution_count": 372,
     "metadata": {},
     "output_type": "execute_result"
    }
   ],
   "source": [
    "#построим сводную таблицу для использования в последующих расчетах\n",
    "pivot = df.groupby([\"left\", \"promotion_last_5years\"]).count()\n",
    "pivot"
   ]
  },
  {
   "cell_type": "code",
   "execution_count": 373,
   "id": "e4f7bcd2",
   "metadata": {},
   "outputs": [
    {
     "name": "stdout",
     "output_type": "stream",
     "text": [
      "Доля работающих сотрудников с повышением за последние 5 лет:  2.63%\n"
     ]
    }
   ],
   "source": [
    "empl_with_promo = pivot.iloc[1,1]/(pivot.iloc[0,1]+pivot.iloc[1,1])\n",
    "print('Доля работающих сотрудников с повышением за последние 5 лет: ', \"{0:.2f}%\".format(empl_with_promo * 100))"
   ]
  },
  {
   "cell_type": "code",
   "execution_count": 374,
   "id": "70e26f9e",
   "metadata": {},
   "outputs": [
    {
     "name": "stdout",
     "output_type": "stream",
     "text": [
      "Доля уволившихся сотрудников с повышением за последние 5 лет:  0.53%\n"
     ]
    }
   ],
   "source": [
    "left_empl_with_promo = pivot.iloc[3,1]/(pivot.iloc[2,1]+pivot.iloc[3,1])\n",
    "print('Доля уволившихся сотрудников с повышением за последние 5 лет: ', \"{0:.2f}%\".format(left_empl_with_promo * 100))"
   ]
  },
  {
   "cell_type": "markdown",
   "id": "8f99bc71",
   "metadata": {},
   "source": [
    "**Средняя степень удовлетворенности**"
   ]
  },
  {
   "cell_type": "code",
   "execution_count": 375,
   "id": "c54057f0",
   "metadata": {},
   "outputs": [
    {
     "name": "stdout",
     "output_type": "stream",
     "text": [
      "Средняя степень удовлетворенности работающих сотрудников:  66.68%\n"
     ]
    }
   ],
   "source": [
    "sat_level = df.satisfaction_level.loc[df['left'] == 0].mean()\n",
    "print('Средняя степень удовлетворенности работающих сотрудников: ', \"{0:.2f}%\".format(sat_level * 100))"
   ]
  },
  {
   "cell_type": "code",
   "execution_count": 376,
   "id": "17d9e993",
   "metadata": {},
   "outputs": [
    {
     "name": "stdout",
     "output_type": "stream",
     "text": [
      "Средняя степень удовлетворенности уволившихся сотрудников:  44.01%\n"
     ]
    }
   ],
   "source": [
    "left_sat_level = df.satisfaction_level.loc[df['left'] == 1].mean()\n",
    "print('Средняя степень удовлетворенности уволившихся сотрудников: ', \"{0:.2f}%\".format(left_sat_level * 100))"
   ]
  },
  {
   "cell_type": "markdown",
   "id": "f5e3d912",
   "metadata": {},
   "source": [
    "**Среднее количество проектов**"
   ]
  },
  {
   "cell_type": "code",
   "execution_count": 377,
   "id": "38d7e3d6",
   "metadata": {},
   "outputs": [
    {
     "name": "stdout",
     "output_type": "stream",
     "text": [
      "Среднее количество проектов у работающих сотрудников:  3.79\n"
     ]
    }
   ],
   "source": [
    "projects_quant = df.number_project.loc[df['left'] == 0].mean()\n",
    "print('Среднее количество проектов у работающих сотрудников: ', \"{0:.2f}\".format(projects_quant))"
   ]
  },
  {
   "cell_type": "code",
   "execution_count": 378,
   "id": "a1862a34",
   "metadata": {},
   "outputs": [
    {
     "name": "stdout",
     "output_type": "stream",
     "text": [
      "Среднее количество проектов у уволившихся сотрудников:  3.86\n"
     ]
    }
   ],
   "source": [
    "left_projects_quant = df.number_project.loc[df['left'] == 1].mean()\n",
    "print('Среднее количество проектов у уволившихся сотрудников: ', \"{0:.2f}\".format(left_projects_quant))"
   ]
  },
  {
   "cell_type": "markdown",
   "id": "e067b65c",
   "metadata": {},
   "source": [
    "## Разделить данные на тестовую и обучающую выборки\n",
    "Построить модель LDA, предсказывающую уволился ли\n",
    "сотрудник на основе имеющихся факторов (кроме department и\n",
    "salary)\n",
    "\n",
    "Оценить качество модели на тестовой выборке"
   ]
  },
  {
   "cell_type": "markdown",
   "id": "c894b4c8",
   "metadata": {},
   "source": [
    "### Модель линейного дискриминантного анализа LDA"
   ]
  },
  {
   "cell_type": "code",
   "execution_count": 670,
   "id": "bd2ebf38",
   "metadata": {},
   "outputs": [],
   "source": [
    "#импортируем библиотеки\n",
    "import numpy as np\n",
    "from sklearn.model_selection import train_test_split"
   ]
  },
  {
   "cell_type": "code",
   "execution_count": 689,
   "id": "51b2158a",
   "metadata": {},
   "outputs": [],
   "source": [
    "#Разделяем данные на тестовые и тренировочные в соотношении 30/70, \n",
    "#указывем random_state=42. Используем train_test_split\n",
    "# в X записываем саму матрицу, а в у -   0 или 1\n",
    "# из датафрейма df, столбцa 'left'\n",
    "#оставим  только столбцы с данными, которые влияют на прогнозирование (это мы уже проверили в ходе нашей работы)\n",
    "#(satisfaction_level,number_project,average_montly_hours,promotion_last_5years)\n",
    "X = df.iloc[:,[0,2,3,7]]\n",
    "y = df['left']\n",
    "X_train, X_test, y_train, y_test = train_test_split(X, y, test_size=0.30, random_state=42)  "
   ]
  },
  {
   "cell_type": "code",
   "execution_count": 690,
   "id": "9d558ca1",
   "metadata": {
    "scrolled": true
   },
   "outputs": [
    {
     "data": {
      "text/plain": [
       "(10499, 4)"
      ]
     },
     "execution_count": 690,
     "metadata": {},
     "output_type": "execute_result"
    }
   ],
   "source": [
    "X_train.shape"
   ]
  },
  {
   "cell_type": "code",
   "execution_count": 691,
   "id": "25e4b70d",
   "metadata": {},
   "outputs": [
    {
     "data": {
      "text/plain": [
       "(10499,)"
      ]
     },
     "execution_count": 691,
     "metadata": {},
     "output_type": "execute_result"
    }
   ],
   "source": [
    "y_train.shape"
   ]
  },
  {
   "cell_type": "code",
   "execution_count": 692,
   "id": "a710681a",
   "metadata": {},
   "outputs": [
    {
     "data": {
      "text/plain": [
       "LinearDiscriminantAnalysis()"
      ]
     },
     "execution_count": 692,
     "metadata": {},
     "output_type": "execute_result"
    }
   ],
   "source": [
    "#Построим модель линейного дискриминантного анализа LDA, оцениваем ее точность на тестовых данных\n",
    "from sklearn.discriminant_analysis import LinearDiscriminantAnalysis\n",
    "model = LinearDiscriminantAnalysis()\n",
    "model.fit(X_train, y_train)  # метод обучается на данных и подбирает оптимальные коэффициенты"
   ]
  },
  {
   "cell_type": "code",
   "execution_count": 693,
   "id": "eeab4da2",
   "metadata": {},
   "outputs": [
    {
     "data": {
      "text/plain": [
       "array([0, 0, 0, ..., 0, 0, 0])"
      ]
     },
     "execution_count": 693,
     "metadata": {},
     "output_type": "execute_result"
    }
   ],
   "source": [
    "# Вычисляем категориальные значения y_pred, используя тестовые данные X_test\n",
    "y_pred = model.predict(X_test)\n",
    "y_pred"
   ]
  },
  {
   "cell_type": "code",
   "execution_count": 694,
   "id": "9a5fefba",
   "metadata": {},
   "outputs": [
    {
     "data": {
      "text/plain": [
       "0.7611111111111111"
      ]
     },
     "execution_count": 694,
     "metadata": {},
     "output_type": "execute_result"
    }
   ],
   "source": [
    "# Найдем значение коэффициента детерминации\n",
    "model.score(X_test, y_test) "
   ]
  },
  {
   "cell_type": "markdown",
   "id": "e4f091ee",
   "metadata": {},
   "source": [
    "В связи с тем, что коэф.детерминации должен стремиться к 1, а у нас 0.76 , можно сказать что модель данных  отличается от наивной (средней) модели и хорошо объясняет закономерность данных"
   ]
  },
  {
   "cell_type": "markdown",
   "id": "69063201",
   "metadata": {},
   "source": [
    "## Для сравнения применим способ классификации Random Forest"
   ]
  },
  {
   "cell_type": "code",
   "execution_count": 695,
   "id": "5eb122b5",
   "metadata": {},
   "outputs": [],
   "source": [
    "#Разделяем данные на тестовые и тренировочные в соотношении 30/70, \n",
    "#указывем random_state=42. Используем train_test_split\n",
    "# в X записываем саму матрицу, а в у -   0 или 1\n",
    "# из датафрейма df, столбцa 'left'\n",
    "#оставим  только столбцы  с данными, которые влияют на прогнозирование (это мы уже проверили в ходе нашей работы)\n",
    "#(satisfaction_level,number_project,average_montly_hours,promotion_last_5years)\n",
    "X = df.iloc[:,[0,2,3,7]]\n",
    "y = df['left']\n",
    "X_train, X_test, y_train, y_test = train_test_split(X, y, test_size=0.30, random_state=42)  "
   ]
  },
  {
   "cell_type": "code",
   "execution_count": 696,
   "id": "2018fc26",
   "metadata": {
    "scrolled": true
   },
   "outputs": [
    {
     "data": {
      "text/plain": [
       "(10499, 4)"
      ]
     },
     "execution_count": 696,
     "metadata": {},
     "output_type": "execute_result"
    }
   ],
   "source": [
    "X_train.shape"
   ]
  },
  {
   "cell_type": "code",
   "execution_count": 697,
   "id": "e0c903b6",
   "metadata": {},
   "outputs": [
    {
     "data": {
      "text/plain": [
       "(10499,)"
      ]
     },
     "execution_count": 697,
     "metadata": {},
     "output_type": "execute_result"
    }
   ],
   "source": [
    "y_train.shape"
   ]
  },
  {
   "cell_type": "code",
   "execution_count": 701,
   "id": "f3f2782a",
   "metadata": {},
   "outputs": [
    {
     "data": {
      "text/plain": [
       "RandomForestClassifier()"
      ]
     },
     "execution_count": 701,
     "metadata": {},
     "output_type": "execute_result"
    }
   ],
   "source": [
    "#Построим модель Random Forest,  оцениваем ее точность на тестовых данных\n",
    "from sklearn.ensemble import RandomForestClassifier\n",
    "model = RandomForestClassifier()\n",
    "model.fit(X_train, y_train)  # метод обучается на данных и подбирает оптимальные коэффициенты"
   ]
  },
  {
   "cell_type": "code",
   "execution_count": 702,
   "id": "8a441dc3",
   "metadata": {},
   "outputs": [
    {
     "data": {
      "text/plain": [
       "array([0, 0, 0, ..., 0, 0, 0])"
      ]
     },
     "execution_count": 702,
     "metadata": {},
     "output_type": "execute_result"
    }
   ],
   "source": [
    "# Вычисляем категориальные значения y_pred, используя тестовые данные X_test\n",
    "y_pred = model.predict(X_test)\n",
    "y_pred"
   ]
  },
  {
   "cell_type": "code",
   "execution_count": 703,
   "id": "2da2192a",
   "metadata": {},
   "outputs": [
    {
     "data": {
      "text/plain": [
       "0.9506666666666667"
      ]
     },
     "execution_count": 703,
     "metadata": {},
     "output_type": "execute_result"
    }
   ],
   "source": [
    "# Найдем значение коэффициента детерминации\n",
    "model.score(X_test, y_test) "
   ]
  },
  {
   "cell_type": "markdown",
   "id": "1aee10a6",
   "metadata": {},
   "source": [
    " В связи с тем, что коэф.детерминации должен стремиться к 1, а у нас 0.95 , можно сказать что модель данных  отличается от наивной (средней) модели и отлично объясняет закономерность данных"
   ]
  },
  {
   "cell_type": "markdown",
   "id": "4445d577",
   "metadata": {},
   "source": [
    "**Классификатор Random Forest лучше других построил модель прогноза, предсказывающую увольнение сотрудника**"
   ]
  }
 ],
 "metadata": {
  "kernelspec": {
   "display_name": "Python 3",
   "language": "python",
   "name": "python3"
  },
  "language_info": {
   "codemirror_mode": {
    "name": "ipython",
    "version": 3
   },
   "file_extension": ".py",
   "mimetype": "text/x-python",
   "name": "python",
   "nbconvert_exporter": "python",
   "pygments_lexer": "ipython3",
   "version": "3.8.8"
  }
 },
 "nbformat": 4,
 "nbformat_minor": 5
}
