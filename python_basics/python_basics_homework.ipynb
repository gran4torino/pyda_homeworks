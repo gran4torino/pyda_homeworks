{
 "cells": [
  {
   "cell_type": "code",
   "execution_count": 1,
   "id": "40aa999d",
   "metadata": {},
   "outputs": [
    {
     "name": "stdout",
     "output_type": "stream",
     "text": [
      "Фраза 1 длиннее фразы 2\n"
     ]
    }
   ],
   "source": [
    "phrase_1 = 'Насколько проще было бы писать программы, если бы не заказчики'\n",
    "phrase_2 = '640Кб должно хватить для любых задач. Билл Гейтс (по легенде)'\n",
    "if len (phrase_1) > len(phrase_2):\n",
    "    print ('Фраза 1 длиннее фразы 2')\n",
    "elif len (phrase_1) < len(phrase_2):\n",
    "    print ('Фраза 2 длиннее фразы 1')\n",
    "else:\n",
    "    print ('Фразы равной длины')\n",
    "        "
   ]
  },
  {
   "cell_type": "code",
   "execution_count": 2,
   "id": "d8cc10f2",
   "metadata": {},
   "outputs": [
    {
     "name": "stdout",
     "output_type": "stream",
     "text": [
      "2020 - високосный год\n"
     ]
    }
   ],
   "source": [
    "year = 2020\n",
    "#если год делится без остатка на 4, то это високосный год\n",
    "if year%4 == 0:\n",
    "    print (year, '- високосный год')\n",
    "else:\n",
    "    print (year, '- обычный год') "
   ]
  },
  {
   "cell_type": "code",
   "execution_count": 17,
   "id": "f543ebf5",
   "metadata": {},
   "outputs": [
    {
     "name": "stdout",
     "output_type": "stream",
     "text": [
      "Введите день:30\n",
      "Введите месяц:Апрель\n",
      "Ваш знак зодиака: Телец\n"
     ]
    }
   ],
   "source": [
    "dd_number = int(input('Введите день:'))\n",
    "month_text = input('Введите месяц:')\n",
    "#проверяем в какие диапазоны дат попадают наши введенные данные и находим знак задиака\n",
    "if (dd_number >= 21 and month_text == 'Март') or (dd_number <= 20 and month_text == 'Апрель'):\n",
    "    znak_zodiaka= 'Овен'\n",
    "elif (dd_number >= 21 and month_text == 'Апрель') or (dd_number<=20 and month_text == 'Май'):\n",
    "    znak_zodiaka = 'Телец'\n",
    "elif (dd_number >= 21 and month_text == 'Май') or (dd_number <= 21 and month_text == 'Июнь'):\n",
    "    znak_zodiaka = 'Близнецы'\n",
    "elif (dd_number >= 22 and month_text =='Июнь') or (dd_number <= 22 and month_text == 'Июль'):\n",
    "    znak_zodiaka = 'Рак'\n",
    "elif (dd_number >= 23 and month_text == 'Июль') or (dd_number <= 22 and month_text == 'Авшуст'):\n",
    "    znak_zodiaka = 'Лев'\n",
    "elif (dd_number >= 23 and month_text == 'Август') or (dd_number <= 22 and month_text == 'Сентябрь'):\n",
    "    znak_zodiaka = 'Дева'\n",
    "elif (dd_number >= 23 and month_text == 'Сентябрь') or (dd_number <= 22 and month_text == 'Октябрь'):\n",
    "    znak_zodiaka = 'Весы'\n",
    "elif (dd_number >= 23 and month_text == 'Октябрь') or (dd_number <= 21 and month_text == 'Ноябрь'):\n",
    "    znak_zodiaka= 'Скорпион'\n",
    "elif (dd_number >= 22 and month_text == 'Ноябрь') or (dd_number <= 20 and month_text == 'Декабрь'):\n",
    "    znak_zodiaka = 'Стрелец'\n",
    "elif (dd_number >= 21 and month_text =='Декабрь') or (dd_number <= 19 and month_text == 'Январь'):\n",
    "    znak_zodiaka = 'Козерог'    \n",
    "elif (dd_number >= 20 and month_text == 'Январь') or (dd_number <= 19 and month_text == 'Февраль'):\n",
    "    znak_zodiaka = 'Водолей' \n",
    "elif (dd_number >= 20 and month_text == 'Февраль') or (dd_number <= 20 and month_text == 'Март'):\n",
    "    znak_zodiaka = 'Рыбы'    \n",
    "else:\n",
    "    znak_zodiaka = 'Неправильно введенные данные'  \n",
    "print ('Ваш знак зодиака:', znak_zodiaka)\n",
    "        "
   ]
  },
  {
   "cell_type": "code",
   "execution_count": 1,
   "id": "534b2ba7",
   "metadata": {},
   "outputs": [
    {
     "name": "stdout",
     "output_type": "stream",
     "text": [
      "Упаковка для лыж\n"
     ]
    }
   ],
   "source": [
    "width = 10\n",
    "length = 205\n",
    "height = 5\n",
    "if width < 15 and length < 15 and height < 15:\n",
    "    print('Коробка №1')\n",
    "elif (width > 15 and width < 50) or (length > 15 and length < 50) or (height > 15 and height < 50):\n",
    "    print('Коробка №2')\n",
    "elif length > 200:\n",
    "    print('Упаковка для лыж')\n",
    "else:\n",
    "    print('Стандартная коробка №3')\n",
    "    \n"
   ]
  },
  {
   "cell_type": "code",
   "execution_count": 31,
   "id": "47ac98b3",
   "metadata": {},
   "outputs": [
    {
     "name": "stdout",
     "output_type": "stream",
     "text": [
      "Счастливый билет\n"
     ]
    }
   ],
   "source": [
    "number = 123321\n",
    "\n",
    "# Проводим  арифм.операции для нахождения числа в каждой позиции номера билета \n",
    "number_pos_1 = number//100000\n",
    "number_pos_2 = number//10000 - number_pos_1*10\n",
    "number_pos_3 = number//1000 - number_pos_1*100 - number_pos_2*10\n",
    "number_pos_4 = number//100 - number_pos_1*1000 - number_pos_2*100 - number_pos_3*10\n",
    "number_pos_5 = number//10 - number_pos_1*10000 - number_pos_2*1000 - number_pos_3*100 - number_pos_4*10\n",
    "number_pos_6 = number - number_pos_1*100000 - number_pos_2*10000 - number_pos_3*1000 - number_pos_4*100 - number_pos_5*10\n",
    "#Если сумма первых трех цифр равно сумме последных трех цифр то билет считается счастливым\n",
    "if number_pos_1+number_pos_2+number_pos_3 == number_pos_4+number_pos_5+number_pos_6 :\n",
    "    print('Счастливый билет')\n",
    "else:\n",
    "    print ('Неcчастливый билет')"
   ]
  },
  {
   "cell_type": "code",
   "execution_count": 27,
   "id": "08727470",
   "metadata": {},
   "outputs": [
    {
     "name": "stdout",
     "output_type": "stream",
     "text": [
      "Введите тип фигуры:Прямоугольник\n",
      "Введите длину стороны A:5\n",
      "Введите длину стороны B:6\n",
      "30\n"
     ]
    }
   ],
   "source": [
    "import math\n",
    "figure_type = input ('Введите тип фигуры:')\n",
    "if figure_type == 'Круг':\n",
    "    radius = int(input('Введите радиус круга:'))\n",
    "    square = 3.1415*(radius**2)\n",
    "elif figure_type == 'Треугольник':\n",
    "    length_A = int(input('Введите длину стороны A:'))\n",
    "    length_B = int(input('Введите длину стороны B:'))\n",
    "    length_C = int(input('Введите длину стороны C:'))\n",
    "    # высисляем площадь треугольника по формуле Герона для вычисления площади треугольника.\n",
    "    half_perim=(length_A + length_B + length_C) / 2\n",
    "    square = math.sqrt( half_perim * (half_perim - length_A) * (half_perim - length_B) * (half_perim - length_C))\n",
    "elif figure_type == 'Прямоугольник':  \n",
    "    length_A = int(input('Введите длину стороны A:'))\n",
    "    length_B = int(input('Введите длину стороны B:'))\n",
    "    square=length_A*length_B    \n",
    "else:\n",
    "    print('Нет расчета площади такой фигуры')\n",
    "print(square)"
   ]
  },
  {
   "cell_type": "code",
   "execution_count": null,
   "id": "ab5833b8",
   "metadata": {},
   "outputs": [],
   "source": []
  }
 ],
 "metadata": {
  "kernelspec": {
   "display_name": "Python 3",
   "language": "python",
   "name": "python3"
  },
  "language_info": {
   "codemirror_mode": {
    "name": "ipython",
    "version": 3
   },
   "file_extension": ".py",
   "mimetype": "text/x-python",
   "name": "python",
   "nbconvert_exporter": "python",
   "pygments_lexer": "ipython3",
   "version": "3.8.8"
  }
 },
 "nbformat": 4,
 "nbformat_minor": 5
}
