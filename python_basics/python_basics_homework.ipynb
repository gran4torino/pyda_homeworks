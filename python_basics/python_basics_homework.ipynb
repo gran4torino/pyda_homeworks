{
 "cells": [
  {
   "cell_type": "code",
   "execution_count": 4,
   "id": "40aa999d",
   "metadata": {},
   "outputs": [
    {
     "name": "stdout",
     "output_type": "stream",
     "text": [
      "Фраза 1 длиннее фразы 2\n"
     ]
    }
   ],
   "source": [
    "#сравнение длин фраз\n",
    "phrase_1 = 'Насколько проще было бы писать программы, если бы не заказчики'\n",
    "phrase_2 = '640Кб должно хватить для любых задач. Билл Гейтс (по легенде)'\n",
    "if len(phrase_1) > len(phrase_2):\n",
    "    print('Фраза 1 длиннее фразы 2')\n",
    "elif len(phrase_1) < len(phrase_2):\n",
    "    print('Фраза 2 длиннее фразы 1')\n",
    "else:\n",
    "    print('Фразы равной длины')\n",
    "        "
   ]
  },
  {
   "cell_type": "code",
   "execution_count": 5,
   "id": "d8cc10f2",
   "metadata": {},
   "outputs": [
    {
     "name": "stdout",
     "output_type": "stream",
     "text": [
      "1800 - обычный год\n"
     ]
    }
   ],
   "source": [
    "# определение високосного года\n",
    "year = 1800\n",
    "#если год делится без остатка на 4, то это високосный год\n",
    "if (year%4 == 0 and year%100 != 0)  or year%400 == 0 :\n",
    "    print(year, '- високосный год')\n",
    "else: \n",
    "    print(year, '- обычный год') "
   ]
  },
  {
   "cell_type": "code",
   "execution_count": 6,
   "id": "f543ebf5",
   "metadata": {},
   "outputs": [
    {
     "name": "stdout",
     "output_type": "stream",
     "text": [
      "Введите день:30\n",
      "Введите месяц:Август\n",
      "Ваш знак зодиака: Дева\n"
     ]
    }
   ],
   "source": [
    "#Определение зщнака зодиака по дате рождения\n",
    "dd_number = int(input('Введите день:'))\n",
    "month_text = input('Введите месяц:')\n",
    "#проверяем в какие диапазоны дат попадают наши введенные данные и находим знак задиака\n",
    "if (dd_number >= 21 and month_text == 'Март') or (dd_number <= 20 and month_text == 'Апрель'):\n",
    "    zodiac_sign= 'Овен'\n",
    "elif (dd_number >= 21 and month_text == 'Апрель') or (dd_number<=20 and month_text == 'Май'):\n",
    "    zodiac_sign = 'Телец'\n",
    "elif (dd_number >= 21 and month_text == 'Май') or (dd_number <= 21 and month_text == 'Июнь'):\n",
    "    zodiac_sign = 'Близнецы'\n",
    "elif (dd_number >= 22 and month_text =='Июнь') or (dd_number <= 22 and month_text == 'Июль'):\n",
    "    zodiac_sign = 'Рак'\n",
    "elif (dd_number >= 23 and month_text == 'Июль') or (dd_number <= 22 and month_text == 'Август'):\n",
    "    zodiac_sign = 'Лев'\n",
    "elif (dd_number >= 23 and month_text == 'Август') or (dd_number <= 22 and month_text == 'Сентябрь'):\n",
    "    zodiac_sign = 'Дева'\n",
    "elif (dd_number >= 23 and month_text == 'Сентябрь') or (dd_number <= 22 and month_text == 'Октябрь'):\n",
    "    zodiac_sign = 'Весы'\n",
    "elif (dd_number >= 23 and month_text == 'Октябрь') or (dd_number <= 21 and month_text == 'Ноябрь'):\n",
    "    zodiac_sign= 'Скорпион'\n",
    "elif (dd_number >= 22 and month_text == 'Ноябрь') or (dd_number <= 20 and month_text == 'Декабрь'):\n",
    "    zodiac_sign = 'Стрелец'\n",
    "elif (dd_number >= 21 and month_text =='Декабрь') or (dd_number <= 19 and month_text == 'Январь'):\n",
    "    zodiac_sign = 'Козерог'    \n",
    "elif (dd_number >= 20 and month_text == 'Январь') or (dd_number <= 19 and month_text == 'Февраль'):\n",
    "    zodiac_sign = 'Водолей' \n",
    "elif (dd_number >= 20 and month_text == 'Февраль') or (dd_number <= 20 and month_text == 'Март'):\n",
    "    zodiac_sign = 'Рыбы'    \n",
    "else:\n",
    "    zodiac_sign = 'Неправильно введенные данные'  \n",
    "print('Ваш знак зодиака:', zodiac_sign)\n",
    "        "
   ]
  },
  {
   "cell_type": "code",
   "execution_count": 7,
   "id": "534b2ba7",
   "metadata": {},
   "outputs": [
    {
     "name": "stdout",
     "output_type": "stream",
     "text": [
      "Упаковка для лыж\n"
     ]
    }
   ],
   "source": [
    "#определяем тип коробка в зависимости от размера посылки\n",
    "width = 45\n",
    "length = 205\n",
    "height = 45\n",
    "if length > 200:\n",
    "    print('Упаковка для лыж')\n",
    "elif width < 15 and length < 15 and height < 15:\n",
    "    print('Коробка №1')\n",
    "elif (width > 15 and width < 50) or (length > 15 and length < 50) or (height > 15 and height < 50):\n",
    "    print('Коробка №2')\n",
    "else:\n",
    "    print('Стандартная коробка №3')\n",
    "    \n"
   ]
  },
  {
   "cell_type": "code",
   "execution_count": 8,
   "id": "47ac98b3",
   "metadata": {},
   "outputs": [
    {
     "name": "stdout",
     "output_type": "stream",
     "text": [
      "Счастливый билет\n"
     ]
    }
   ],
   "source": [
    "#расчет счастливый билет или нет (суииа первых 3-х цифр равна сумме 3-х последних)\n",
    "number = 123321\n",
    "\n",
    "# Проводим  арифм.операции для нахождения числа в каждой позиции номера билета \n",
    "number_pos_1 = number//100000\n",
    "number_pos_2 = number//10000 - number_pos_1*10\n",
    "number_pos_3 = number//1000 - number_pos_1*100 - number_pos_2*10\n",
    "number_pos_4 = number//100 - number_pos_1*1000 - number_pos_2*100 - number_pos_3*10\n",
    "number_pos_5 = number//10 - number_pos_1*10000 - number_pos_2*1000 - number_pos_3*100 - number_pos_4*10\n",
    "number_pos_6 = number - number_pos_1*100000 - number_pos_2*10000 - number_pos_3*1000 - number_pos_4*100 - number_pos_5*10\n",
    "#Если сумма первых трех цифр равно сумме последных трех цифр то билет считается счастливым\n",
    "if number_pos_1+number_pos_2+number_pos_3 == number_pos_4+number_pos_5+number_pos_6 :\n",
    "    print('Счастливый билет')\n",
    "else:\n",
    "    print('Неcчастливый билет')"
   ]
  },
  {
   "cell_type": "code",
   "execution_count": 12,
   "id": "08727470",
   "metadata": {},
   "outputs": [
    {
     "name": "stdout",
     "output_type": "stream",
     "text": [
      "Введите тип фигуры:Треугольник\n",
      "Введите длину стороны A:2\n",
      "Введите длину стороны B:2\n",
      "Введите длину стороны C:3\n",
      "Площадь треугольника: 1.98\n"
     ]
    }
   ],
   "source": [
    "#расчет площади круга, треугольника и прямоугольника\n",
    "import math\n",
    "figure_type = input('Введите тип фигуры:')\n",
    "if figure_type == 'Круг':\n",
    "    radius = int(input('Введите радиус круга:'))\n",
    "    square = 3.1415*(radius**2)\n",
    "    print('Площадь круга:',round(square,2))\n",
    "elif figure_type == 'Треугольник':\n",
    "    length_A = int(input('Введите длину стороны A:'))\n",
    "    length_B = int(input('Введите длину стороны B:'))\n",
    "    length_C = int(input('Введите длину стороны C:'))\n",
    "    # высисляем площадь треугольника по формуле Герона для вычисления площади треугольника.\n",
    "    half_perim = (length_A + length_B + length_C) / 2\n",
    "    square = math.sqrt(half_perim * (half_perim - length_A) * (half_perim - length_B) * (half_perim - length_C))\n",
    "    print('Площадь треугольника:',round(square,2))\n",
    "elif figure_type == 'Прямоугольник':  \n",
    "    length_A = int(input('Введите длину стороны A:'))\n",
    "    length_B = int(input('Введите длину стороны B:'))\n",
    "\n",
    "    square = length_A*length_B\n",
    "    print('Площадь прямоугольника:',round(square,2))\n",
    "else:\n",
    "    print('Нет расчета площади такой фигуры')"
   ]
  },
  {
   "cell_type": "code",
   "execution_count": null,
   "id": "ab5833b8",
   "metadata": {},
   "outputs": [],
   "source": []
  },
  {
   "cell_type": "code",
   "execution_count": null,
   "id": "8f1cefd7",
   "metadata": {},
   "outputs": [],
   "source": []
  }
 ],
 "metadata": {
  "kernelspec": {
   "display_name": "Python 3",
   "language": "python",
   "name": "python3"
  },
  "language_info": {
   "codemirror_mode": {
    "name": "ipython",
    "version": 3
   },
   "file_extension": ".py",
   "mimetype": "text/x-python",
   "name": "python",
   "nbconvert_exporter": "python",
   "pygments_lexer": "ipython3",
   "version": "3.8.8"
  }
 },
 "nbformat": 4,
 "nbformat_minor": 5
}
