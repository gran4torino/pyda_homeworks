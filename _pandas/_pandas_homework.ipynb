{
 "cells": [
  {
   "cell_type": "markdown",
   "id": "4cc13c96",
   "metadata": {},
   "source": [
    "Задание 1\n",
    "Скачайте с сайта https://grouplens.org/datasets/movielens/ датасет любого размера. Определите какому фильму было выставлено больше всего оценок 5.0."
   ]
  },
  {
   "cell_type": "code",
   "execution_count": 2,
   "id": "ed5b361a",
   "metadata": {},
   "outputs": [
    {
     "data": {
      "text/plain": [
       "movieId\n",
       "318    153\n",
       "dtype: int64"
      ]
     },
     "execution_count": 2,
     "metadata": {},
     "output_type": "execute_result"
    }
   ],
   "source": [
    "import pandas as pd\n",
    "data = pd.read_csv('ratings.csv')\n",
    "data[data.rating == 5].value_counts('movieId', ascending=False).head(1)"
   ]
  },
  {
   "cell_type": "markdown",
   "id": "3cb8de0e",
   "metadata": {},
   "source": [
    "Задание 2\n",
    "По данным файла power.csv посчитайте суммарное потребление стран Прибалтики (Латвия, Литва и Эстония) категорий 4, 12 и 21 за период с 2005 по 2010 года. Не учитывайте в расчетах отрицательные значения quantity."
   ]
  },
  {
   "cell_type": "code",
   "execution_count": 25,
   "id": "8a91e7cc",
   "metadata": {},
   "outputs": [
    {
     "data": {
      "text/plain": [
       "240580.0"
      ]
     },
     "execution_count": 25,
     "metadata": {},
     "output_type": "execute_result"
    }
   ],
   "source": [
    "data = pd.read_csv('power.csv')\n",
    "data = data[(data.country == 'Lithuania') | (data.country == 'Latvia') | (data.country == 'Estonia')]\n",
    "data = data[(data.category == 4) | (data.category == 12) | (data.category == 21)]\n",
    "data = data[(data.year >= 2005) & (data.year <= 2010)]\n",
    "data = data[(data.quantity >= 0)]\n",
    "data['quantity'].sum()"
   ]
  },
  {
   "cell_type": "markdown",
   "id": "a72f2c78",
   "metadata": {},
   "source": [
    "Задание 3. Выберите страницу любого сайта с табличными данными. Импортируйте таблицы в pandas dataframe.\n",
    "Примеры страниц (необязательно брать именно эти):\n",
    "https://fortrader.org/quotes\n",
    "https://www.finanz.ru/valyuty/v-realnom-vremeni\n"
   ]
  },
  {
   "cell_type": "code",
   "execution_count": 65,
   "id": "4610779f",
   "metadata": {},
   "outputs": [
    {
     "data": {
      "text/plain": [
       "[    Unnamed: 0              Рубль  Предложение  Спрос  Предыдущее закрытие  \\\n",
       " 0          NaN            GBP/RUB      1033127      -              1031633   \n",
       " 1          NaN            EUR/RUB       889135      -               881630   \n",
       " 2          NaN            USD/RUB       749750      -               747560   \n",
       " 3          NaN            JPY/RUB        06842      -                06757   \n",
       " 4          NaN            CNY/RUB       115550      -               115489   \n",
       " 5          NaN            CHF/RUB       819592      -               807475   \n",
       " 6          NaN               Евро  Предложение  Спрос  Предыдущее закрытие   \n",
       " 7          NaN            EUR/USD        11861      -                11795   \n",
       " 8          NaN            EUR/GBP        08608      -                08546   \n",
       " 9          NaN            EUR/JPY      1299850      -              1304800   \n",
       " 10         NaN            EUR/CHF        10853      -                10920   \n",
       " 11         NaN         Доллар США  Предложение  Спрос  Предыдущее закрытие   \n",
       " 12         NaN            USD/EUR        08431      -                08479   \n",
       " 13         NaN            USD/GBP        07257      -                07246   \n",
       " 14         NaN            USD/JPY      1095980      -              1106500   \n",
       " 15         NaN            USD/CHF        09149      -                09259   \n",
       " 16         NaN      Японская иена  Предложение  Спрос  Предыдущее закрытие   \n",
       " 17         NaN    JPY/EUR (100:1)        07700      -                07700   \n",
       " 18         NaN            JPY/GBP        00066      -                00066   \n",
       " 19         NaN            JPY/USD        00091      -                00090   \n",
       " 20         NaN    JPY/CHF (100:1)        08300      -                08400   \n",
       " 21         NaN    Фунт стерлингов  Предложение  Спрос  Предыдущее закрытие   \n",
       " 22         NaN            GBP/USD        13777      -                13801   \n",
       " 23         NaN            GBP/JPY      1510013      -              1526873   \n",
       " 24         NaN            GBP/EUR        11616      -                11702   \n",
       " 25         NaN            GBP/CHF        12605      -                12765   \n",
       " 26         NaN  Швейцарский франк  Предложение  Спрос  Предыдущее закрытие   \n",
       " 27         NaN            GBP/CHF        12605      -                12765   \n",
       " 28         NaN            EUR/CHF        10853      -                10920   \n",
       " 29         NaN    JPY/CHF (100:1)        08300      -                08400   \n",
       " 30         NaN            USD/CHF        09149      -                09259   \n",
       " 31         NaN  Украинская гривна  Предложение  Спрос  Предыдущее закрытие   \n",
       " 32         NaN            EUR/UAH       323821      -               321318   \n",
       " 33         NaN            USD/UAH       273002      -               272454   \n",
       " 34         NaN            CHF/UAH       298428      -               294290   \n",
       " 35         NaN            GBP/UAH       376169      -               375986   \n",
       " \n",
       "           %  Абсолютное значение     Время  \n",
       " 0    0,14 %                01495  17:17:00  \n",
       " 1    0,85 %                07505  17:18:00  \n",
       " 2    0,29 %                02190  17:17:00  \n",
       " 3    1,27 %                00086  17:17:00  \n",
       " 4    0,05 %                00061  17:17:00  \n",
       " 5    1,50 %                12118  17:17:00  \n",
       " 6         %  Абсолютное значение     Время  \n",
       " 7    0,56 %                00067  17:17:00  \n",
       " 8    0,72 %                00062  17:18:00  \n",
       " 9   -0,38 %               -04950  17:18:00  \n",
       " 10  -0,61 %               -00067  17:18:00  \n",
       " 11        %  Абсолютное значение     Время  \n",
       " 12  -0,56 %               -00048  17:17:00  \n",
       " 13   0,15 %                00011  17:17:00  \n",
       " 14  -0,95 %               -10520  17:17:00  \n",
       " 15  -1,19 %               -00110  17:17:00  \n",
       " 16        %  Абсолютное значение     Время  \n",
       " 17   0,38 %                00000  17:17:00  \n",
       " 18   1,12 %                00001  17:17:00  \n",
       " 19   0,96 %                00001  17:17:00  \n",
       " 20  -0,25 %                00000  17:17:00  \n",
       " 21        %  Абсолютное значение     Время  \n",
       " 22  -0,17 %               -00024  17:17:00  \n",
       " 23  -1,10 %               -16860  17:17:00  \n",
       " 24  -0,73 %               -00086  17:17:00  \n",
       " 25  -1,25 %               -00160  17:17:00  \n",
       " 26        %  Абсолютное значение     Время  \n",
       " 27  -1,25 %               -00160  17:17:00  \n",
       " 28  -0,61 %               -00067  17:18:00  \n",
       " 29  -0,25 %                00000  17:17:00  \n",
       " 30  -1,19 %               -00110  17:17:00  \n",
       " 31        %  Абсолютное значение     Время  \n",
       " 32   0,78 %                02503  17:17:00  \n",
       " 33   0,20 %                00548  17:17:00  \n",
       " 34   1,41 %                04138  17:17:00  \n",
       " 35   0,05 %                00183  17:17:00  ]"
      ]
     },
     "execution_count": 65,
     "metadata": {},
     "output_type": "execute_result"
    }
   ],
   "source": [
    "page_url = 'https://www.finanz.ru/valyuty/v-realnom-vremeni'\n",
    "pd.read_html(page_url,attrs = {'class': 'quote_list'}, encoding ='utf-8')"
   ]
  }
 ],
 "metadata": {
  "kernelspec": {
   "display_name": "Python 3",
   "language": "python",
   "name": "python3"
  },
  "language_info": {
   "codemirror_mode": {
    "name": "ipython",
    "version": 3
   },
   "file_extension": ".py",
   "mimetype": "text/x-python",
   "name": "python",
   "nbconvert_exporter": "python",
   "pygments_lexer": "ipython3",
   "version": "3.8.8"
  }
 },
 "nbformat": 4,
 "nbformat_minor": 5
}
