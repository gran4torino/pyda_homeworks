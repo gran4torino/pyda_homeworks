{
 "cells": [
  {
   "cell_type": "code",
   "execution_count": 91,
   "id": "1553f0f0",
   "metadata": {},
   "outputs": [],
   "source": [
    "#Переведите содержимое файла purchase_log.txt в словарь purchases вида:\n",
    "#{‘1840e0b9d4’: ‘Продукты’, …}\n",
    "\n",
    "#Для каждого user_id в файле visit_log.csv определите третий столбец с категорией покупки (если покупка была, \n",
    "#сам файл visit_log.csv изменять не надо). Запишите в файл funnel.csv визиты из файла visit_log.csv, \n",
    "#в которых были покупки с указанием категории.\n",
    "import json\n",
    "purchases ={}\n",
    "i = 0\n",
    "with open('/Users/viktor/Documents/Netology/pyda_homeworks/files/Downloads/purchase_log.txt') as f:\n",
    "    #пропускаем первую строку с названиями столбцов\n",
    "    next(f)\n",
    "    #построчно проходимся по purchase_log.txt и создаем словарь purchases, со стркутурой согласно условия \n",
    "    for line in f:\n",
    "        line = line.strip()\n",
    "        dict_init= json.loads(line)\n",
    "        key = dict_init['user_id']\n",
    "        value = dict_init['category']\n",
    "        purchases[key] = value\n",
    "#открываем файл с логами visit_log.csv для чтения построчно и funnel.csv для записи результата в режиме добавления строк. \n",
    "with open('/Users/viktor/Documents/Netology/pyda_homeworks/files/Downloads/visit_log.csv') as f:\n",
    "    with open('/Users/viktor/Documents/Netology/pyda_homeworks/files/Downloads/funnel.csv','a') as f2write:\n",
    "        for line in f:\n",
    "            line = line.strip()\n",
    "            line = line.split(',')\n",
    "            # если user_id (line[0]) есть в словаре purchases, то записывем новую строку в funnel.csv (iser_id, source \n",
    "            #из файла visit_log.csv, а третий столбец категории из словаря purchases)\n",
    "            if line[0] in purchases.keys():\n",
    "                result = str(line[0]) + ',' + str(line[1]) + ','+str(purchases[line[0]])+'\\n'\n",
    "                f2write.write(result)        "
   ]
  },
  {
   "cell_type": "code",
   "execution_count": null,
   "id": "59c28dfe",
   "metadata": {},
   "outputs": [],
   "source": []
  }
 ],
 "metadata": {
  "kernelspec": {
   "display_name": "Python 3",
   "language": "python",
   "name": "python3"
  },
  "language_info": {
   "codemirror_mode": {
    "name": "ipython",
    "version": 3
   },
   "file_extension": ".py",
   "mimetype": "text/x-python",
   "name": "python",
   "nbconvert_exporter": "python",
   "pygments_lexer": "ipython3",
   "version": "3.8.8"
  }
 },
 "nbformat": 4,
 "nbformat_minor": 5
}
