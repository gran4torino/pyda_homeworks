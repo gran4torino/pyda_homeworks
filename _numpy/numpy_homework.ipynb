{
 "cells": [
  {
   "cell_type": "markdown",
   "id": "c446d925",
   "metadata": {},
   "source": [
    "Задание 1\n",
    "Создайте numpy array с элементами от числа N до 0 (например, для N = 10 это будет array([9, 8, 7, 6, 5, 4, 3, 2, 1, 0]))."
   ]
  },
  {
   "cell_type": "code",
   "execution_count": 29,
   "id": "694b4c8d",
   "metadata": {},
   "outputs": [
    {
     "name": "stdout",
     "output_type": "stream",
     "text": [
      "Введите число элементов массива numpy array:10\n"
     ]
    },
    {
     "data": {
      "text/plain": [
       "array([9, 8, 7, 6, 5, 4, 3, 2, 1, 0])"
      ]
     },
     "execution_count": 29,
     "metadata": {},
     "output_type": "execute_result"
    }
   ],
   "source": [
    "import numpy as np\n",
    "a = int(input ('Введите число элементов массива numpy array:'))\n",
    "np.arange(a-1,-1,-1)"
   ]
  },
  {
   "cell_type": "markdown",
   "id": "3b16898a",
   "metadata": {},
   "source": [
    "Задание 2\n",
    "Создайте диагональную матрицу с элементами от N до 0. Посчитайте сумму ее значений на диагонали."
   ]
  },
  {
   "cell_type": "code",
   "execution_count": 34,
   "id": "2eb61ef5",
   "metadata": {},
   "outputs": [
    {
     "name": "stdout",
     "output_type": "stream",
     "text": [
      "Введите число элементов массива numpy array:10\n"
     ]
    },
    {
     "data": {
      "text/plain": [
       "array([[9, 0, 0, 0, 0, 0, 0, 0, 0, 0],\n",
       "       [0, 8, 0, 0, 0, 0, 0, 0, 0, 0],\n",
       "       [0, 0, 7, 0, 0, 0, 0, 0, 0, 0],\n",
       "       [0, 0, 0, 6, 0, 0, 0, 0, 0, 0],\n",
       "       [0, 0, 0, 0, 5, 0, 0, 0, 0, 0],\n",
       "       [0, 0, 0, 0, 0, 4, 0, 0, 0, 0],\n",
       "       [0, 0, 0, 0, 0, 0, 3, 0, 0, 0],\n",
       "       [0, 0, 0, 0, 0, 0, 0, 2, 0, 0],\n",
       "       [0, 0, 0, 0, 0, 0, 0, 0, 1, 0],\n",
       "       [0, 0, 0, 0, 0, 0, 0, 0, 0, 0]])"
      ]
     },
     "execution_count": 34,
     "metadata": {},
     "output_type": "execute_result"
    }
   ],
   "source": [
    "a = int(input ('Введите число элементов массива numpy array:'))\n",
    "np.diag(np.arange(a-1,-1,-1))"
   ]
  },
  {
   "cell_type": "code",
   "execution_count": 36,
   "id": "11198861",
   "metadata": {},
   "outputs": [
    {
     "data": {
      "text/plain": [
       "45"
      ]
     },
     "execution_count": 36,
     "metadata": {},
     "output_type": "execute_result"
    }
   ],
   "source": [
    "np.sum(np.arange(a-1,-1,-1))"
   ]
  },
  {
   "cell_type": "markdown",
   "id": "36f22f13",
   "metadata": {},
   "source": [
    "Задание 3\n",
    "Решите систему уравнений:\n",
    "\n",
    "4x + 2y + z = 4\n",
    "\n",
    "x + 3y = 12\n",
    "\n",
    "5y + 4z = -3\n"
   ]
  },
  {
   "cell_type": "code",
   "execution_count": 37,
   "id": "a9c75bc5",
   "metadata": {},
   "outputs": [
    {
     "data": {
      "text/plain": [
       "array([ 0.46666667,  3.84444444, -5.55555556])"
      ]
     },
     "execution_count": 37,
     "metadata": {},
     "output_type": "execute_result"
    }
   ],
   "source": [
    "a= np.array(\n",
    "    [\n",
    "        [4,2,1],\n",
    "        [1,3,0],\n",
    "        [0,5,4]\n",
    "    ]\n",
    ")\n",
    "b= np.array([4,12,-3])\n",
    "from numpy import linalg\n",
    "linalg.solve(a,b)"
   ]
  },
  {
   "cell_type": "code",
   "execution_count": 39,
   "id": "b3b9e9c5",
   "metadata": {},
   "outputs": [
    {
     "data": {
      "text/plain": [
       "True"
      ]
     },
     "execution_count": 39,
     "metadata": {},
     "output_type": "execute_result"
    }
   ],
   "source": [
    "# проверяем верность\n",
    "np.allclose(np.dot(a,linalg.solve(a,b)),b)"
   ]
  },
  {
   "cell_type": "markdown",
   "id": "38da6034",
   "metadata": {},
   "source": [
    "Задание 4\n",
    "Матрица в виде numpy array users_stats.\n",
    "\n",
    "На сайт заходит очередной посетитель, о покупках которого известно следующее:\n",
    "\n",
    "next_user_stats = np.array([0, 1, 2, 0, 0, 0])\n",
    "\n",
    "Найдите самого похожего пользователя. Т. е. посчитайте косинусное сходство между этим пользователем и всеми пользователями из массива user_stats"
   ]
  },
  {
   "cell_type": "code",
   "execution_count": 61,
   "id": "c34a55ff",
   "metadata": {},
   "outputs": [
    {
     "name": "stdout",
     "output_type": "stream",
     "text": [
      "[2 1 0 0 0 0] 0.19999999999999996\n",
      "[1 1 2 1 0 0] 0.8451542547285165\n",
      "[2 0 1 0 0 0] 0.3999999999999999\n",
      "[1 1 2 1 0 1] 0.7905694150420948\n",
      "[0 0 1 2 0 0] 0.3999999999999999\n",
      "[0 0 0 0 0 5] 0.0\n",
      "[1 0 0 0 0 0] 0.0\n",
      "[0 1 1 0 0 0] 0.9486832980505138\n",
      "[0 0 0 1 1 3] 0.0\n",
      "[1 0 0 2 1 4] 0.0\n",
      "Самый похожий пользователь:  [0 1 1 0 0 0]\n"
     ]
    }
   ],
   "source": [
    "users_stats = np.array(\n",
    "    [\n",
    "        [2, 1, 0, 0, 0, 0],\n",
    "        [1, 1, 2, 1, 0, 0],\n",
    "        [2, 0, 1, 0, 0, 0],\n",
    "        [1, 1, 2, 1, 0, 1],\n",
    "        [0, 0, 1, 2, 0, 0],\n",
    "        [0, 0, 0, 0, 0, 5],\n",
    "        [1, 0, 0, 0, 0, 0],\n",
    "        [0, 1, 1, 0, 0, 0],\n",
    "        [0, 0, 0, 1, 1, 3],\n",
    "        [1, 0, 0, 2, 1, 4]\n",
    "    ], \n",
    "    np.int32\n",
    ")\n",
    "next_user_stats = np.array([0, 1, 2, 0, 0, 0])\n",
    "def cosine( a, b ):\n",
    "    \"\"\"\n",
    "    Подсчет косинуса угла между векторами a, b по их координатам\n",
    "    \"\"\"\n",
    "    \n",
    "    # длины векторов\n",
    "    aLength = np.linalg.norm( a )\n",
    "    bLength = np.linalg.norm( b )\n",
    "    \n",
    "    return np.dot( a, b ) / ( aLength * bLength )\n",
    "\n",
    "similar_user_cos =0\n",
    "\n",
    "for row in users_stats:            # делаем перебор всех строк матрицы \n",
    "    current_user_cos = cosine(next_user_stats,row)\n",
    "    print(row, current_user_cos)\n",
    "    if similar_user_cos < current_user_cos:\n",
    "        similar_user_cos = current_user_cos\n",
    "        similar_user = row\n",
    "\n",
    "print(\"Самый похожий пользователь: \",similar_user) "
   ]
  },
  {
   "cell_type": "code",
   "execution_count": null,
   "id": "43081d74",
   "metadata": {},
   "outputs": [],
   "source": []
  }
 ],
 "metadata": {
  "kernelspec": {
   "display_name": "Python 3",
   "language": "python",
   "name": "python3"
  },
  "language_info": {
   "codemirror_mode": {
    "name": "ipython",
    "version": 3
   },
   "file_extension": ".py",
   "mimetype": "text/x-python",
   "name": "python",
   "nbconvert_exporter": "python",
   "pygments_lexer": "ipython3",
   "version": "3.8.8"
  }
 },
 "nbformat": 4,
 "nbformat_minor": 5
}
