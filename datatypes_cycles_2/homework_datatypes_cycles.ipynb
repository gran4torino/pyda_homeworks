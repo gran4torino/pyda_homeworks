{
 "cells": [
  {
   "cell_type": "code",
   "execution_count": 69,
   "id": "202989f3",
   "metadata": {
    "scrolled": true
   },
   "outputs": [
    {
     "name": "stdout",
     "output_type": "stream",
     "text": [
      "{98, 35, 15, 213, 54, 119}\n"
     ]
    }
   ],
   "source": [
    "#Есть словарь, содержащий гео-метки для каждого пользователя.Нужно вывести на экран множество уникальных гео-меток всех пользователей.\n",
    "ids = {'user1': [213, 213, 213, 15, 213], \n",
    "       'user2': [54, 54, 119, 119, 119], \n",
    "       'user3': [213, 98, 98, 35]}\n",
    "geotags_list = []\n",
    "list_ids=ids.values()\n",
    "#делаем 2 вложенных цикла, чтобы получить все гео-метки и затем их записать в одноуровневый список geotags_list\n",
    "for geotags in list_ids:\n",
    "    for geotags_inside1 in geotags:\n",
    "        geotags_inside1\n",
    "        geotags_list.append(geotags_inside1)\n",
    "#для исключения повторяющихся значений, преобразуем список во множество unique_set\n",
    "unique_set = set(geotags_list)\n",
    "print(unique_set)"
   ]
  },
  {
   "cell_type": "code",
   "execution_count": 2,
   "id": "922f6e21",
   "metadata": {},
   "outputs": [
    {
     "name": "stdout",
     "output_type": "stream",
     "text": [
      "Поисковых запросов, содержащих 2 слов(а): 42.86 %\n",
      "Поисковых запросов, содержащих 3 слов(а): 57.14 %\n"
     ]
    }
   ],
   "source": [
    "#Дана переменная, в которой хранится список поисковых запросов пользователя. \n",
    "#Необходимо написать программу, которая выведет на экран распределение количества слов в запросах в требуемом виде.\n",
    "queries = [\n",
    "    'смотреть сериалы онлайн',\n",
    "    'новости спорта',\n",
    "    'афиша кино',\n",
    "    'курс доллара',\n",
    "    'сериалы этим летом',\n",
    "    'курс по питону',\n",
    "    'сериалы про спорт',\n",
    "]\n",
    "#проходимся по всему списку циклом, и формируем список length_list, который состоит из кол-ва слов \n",
    "# в каждом поисковом запросе.\n",
    "length_list = []\n",
    "dict = {}\n",
    "for element in queries:\n",
    "    words_list = element.split(' ')\n",
    "    length_list.append(len(words_list))\n",
    "#сортируем по возрастанию кол-во слов в запросах, для последующей выдачи результата от меньшего кол-ва слов в запросах к большему\n",
    "    length_list.sort()\n",
    "#создаем словарь, где key= кол-во слов в запросе, а value = количество раз, которые эти keys встречаются \n",
    "#в нашем списке queries\n",
    "for element in length_list:\n",
    "    if element not in dict:\n",
    "        dict[element] = 1\n",
    "    else: \n",
    "        dict[element] = dict[element] + 1\n",
    "#записываем в sum_all_requests сумму всех повторов всех слов (сумма всех значений словаря dict)\n",
    "sum_all_requests=sum(list(dict.values()))\n",
    "#печатаем результат с распределением количества слов в запросах \n",
    "for key,value in dict.items():\n",
    "    print('Поисковых запросов, содержащих',key,'слов(а):', round(value/sum_all_requests*100,2),'%')\n"
   ]
  },
  {
   "cell_type": "code",
   "execution_count": 3,
   "id": "3a484e12",
   "metadata": {},
   "outputs": [
    {
     "data": {
      "text/plain": [
       "{'vk': {'revenue': 103, 'cost': 98, 'ROI': 5.1},\n",
       " 'yandex': {'revenue': 179, 'cost': 153, 'ROI': 16.99},\n",
       " 'facebook': {'revenue': 103, 'cost': 110, 'ROI': -6.36},\n",
       " 'adwords': {'revenue': 35, 'cost': 34, 'ROI': 2.94},\n",
       " 'twitter': {'revenue': 11, 'cost': 24, 'ROI': -54.17}}"
      ]
     },
     "execution_count": 3,
     "metadata": {},
     "output_type": "execute_result"
    }
   ],
   "source": [
    "#Дана переменная, в которой хранится информация о затратах и доходе рекламных кампаний по различным источникам. \n",
    "#Необходимо дополнить исходную структуру показателем ROI,который рассчитаем по формуле: (revenue / cost - 1) * 100 \n",
    "results = {\n",
    "    'vk': {'revenue': 103, 'cost': 98},\n",
    "    'yandex': {'revenue': 179, 'cost': 153},\n",
    "    'facebook': {'revenue': 103, 'cost': 110},\n",
    "    'adwords': {'revenue': 35, 'cost': 34},\n",
    "    'twitter': {'revenue': 11, 'cost': 24},\n",
    "}\n",
    "for key,value in results.items():\n",
    "    ROI = round((((value['revenue'])/value['cost'])-1) *100,2)\n",
    "    value['ROI'] = ROI\n",
    "results"
   ]
  },
  {
   "cell_type": "code",
   "execution_count": 4,
   "id": "a51f8ca3",
   "metadata": {},
   "outputs": [
    {
     "name": "stdout",
     "output_type": "stream",
     "text": [
      "Максимальный объем продаж на рекламном канале: vk\n"
     ]
    }
   ],
   "source": [
    "#Дана переменная, в которой хранится статистика рекламных каналов по объемам продаж. \n",
    "#Необходимо написать программу, которая возвращает название канала с максимальным объемом продаж.\n",
    "stats = {'facebook': 55, 'yandex': 115, 'vk': 120, 'google': 99, 'email': 42, 'ok': 98}\n",
    "max_sale_value = int()\n",
    "#проходимся циклом по словарю и находим максимальный объем продаж и соответствующий этому показателю канал\n",
    "for key,value in stats.items():\n",
    "    if max_sale_value < stats[key]:\n",
    "        max_sale_value = stats[key]\n",
    "        max_sale_channel = key\n",
    "print('Максимальный объем продаж на рекламном канале:',max_sale_channel)"
   ]
  },
  {
   "cell_type": "code",
   "execution_count": 5,
   "id": "2888fce7",
   "metadata": {},
   "outputs": [
    {
     "name": "stdout",
     "output_type": "stream",
     "text": [
      "{'2018-01-01': {'yandex': {'cpc': 100}}}\n"
     ]
    }
   ],
   "source": [
    "#Дан список произвольной длины. Необходимо написать код, который на основе исходного списка составит \n",
    "#словарь такого уровня вложенности, какова длина исхондого списка.\n",
    "my_list = ['2018-01-01', 'yandex', 'cpc', 100]\n",
    "my_list.reverse()\n",
    "my_dict = {}\n",
    "my_dict2 = {}\n",
    "i = 0\n",
    "#организовываем циклы для организации вложенных словарей\n",
    "for element in my_list:\n",
    "    if i == 0:\n",
    "        my_dict[my_list[i+1]] = my_list[i]\n",
    "    if (i%2 == 0 and i != 0):\n",
    "        my_dict[my_list[i+1]] = my_dict2\n",
    "        my_dict2={}\n",
    "        z = 1\n",
    "    if i%2 != 0:\n",
    "        my_dict2[my_list[i+1]] = my_dict\n",
    "        my_dict = {}\n",
    "        z = 0\n",
    "    i = i+1\n",
    "    if (i+2) > len(my_list):\n",
    "        break\n",
    "# печатаем непустой словарь\n",
    "if z == 0:\n",
    "    print(my_dict2)\n",
    "print(my_dict)"
   ]
  },
  {
   "cell_type": "code",
   "execution_count": 39,
   "id": "e1dae34b",
   "metadata": {},
   "outputs": [
    {
     "name": "stdout",
     "output_type": "stream",
     "text": [
      "{'a': {'b': {'c': {'d': {'e': 'f'}}}}}\n"
     ]
    }
   ],
   "source": [
    "#Дан список произвольной длины. Необходимо написать код, который на основе исходного списка составит \n",
    "#словарь такого уровня вложенности, какова длина исхондого списка.\n",
    "my_list = ['a', 'b', 'c', 'd', 'e', 'f']\n",
    "my_list.reverse()\n",
    "my_dict = {}\n",
    "my_dict2 = {}\n",
    "i = 0\n",
    "#организовываем циклы для организации вложенных словарей\n",
    "for element in my_list:\n",
    "    if i == 0:\n",
    "        my_dict[my_list[i+1]] = my_list[i]\n",
    "    if (i%2 == 0 and i != 0):\n",
    "        my_dict[my_list[i+1]] = my_dict2\n",
    "        my_dict2={}\n",
    "        z = 1\n",
    "    if i%2 != 0:\n",
    "        my_dict2[my_list[i+1]] = my_dict\n",
    "        my_dict = {}\n",
    "        z = 0\n",
    "    i = i+1\n",
    "    if (i+2) > len(my_list):\n",
    "        break\n",
    "# печатаем непустой словарь\n",
    "if z == 0:\n",
    "    print(my_dict2)\n",
    "print(my_dict)"
   ]
  },
  {
   "cell_type": "code",
   "execution_count": 70,
   "id": "68070b26",
   "metadata": {},
   "outputs": [
    {
     "name": "stdout",
     "output_type": "stream",
     "text": [
      "Введите количество порций:3\n",
      "Сыр : 210 гр\n",
      "Томаты : 6 шт\n",
      "Огурцы : 60 гр\n",
      "Маслины : 30 гр\n",
      "Оливковое масло : 60 мл\n",
      "Салат : 30 гр\n",
      "Перец : 60 гр\n",
      "Колбаса : 90 гр\n",
      "Бекон : 90 гр\n",
      "Оливки : 30 гр\n",
      "Томаты : 60 гр\n",
      "Тесто : 300 гр\n",
      "Лимон : 3 шт\n",
      "Вода : 600 мл\n",
      "Сахар : 30 гр\n",
      "Лайм : 60 гр\n"
     ]
    }
   ],
   "source": [
    "#Дана книга рецептов с информацией о том, сколько ингредиентов нужно для приготовления блюда в расчете на одну порцию (пример данных представлен ниже).\n",
    "#Напишите программу, которая будет запрашивать у пользователя количество порций для приготовления этих блюд и отображать информацию о суммарном количестве требуемых ингредиентов в указанном виде.\n",
    "#Внимание! Одинаковые ингридиенты с разными размерностями нужно считать раздельно!\n",
    "cook_book = {\n",
    "  'салат': [\n",
    "     {'ingridient_name': 'сыр', 'quantity': 50, 'measure': 'гр'},\n",
    "     {'ingridient_name': 'томаты', 'quantity': 2, 'measure': 'шт'},\n",
    "     {'ingridient_name': 'огурцы', 'quantity': 20, 'measure': 'гр'},\n",
    "     {'ingridient_name': 'маслины', 'quantity': 10, 'measure': 'гр'},\n",
    "     {'ingridient_name': 'оливковое масло', 'quantity': 20, 'measure': 'мл'},\n",
    "     {'ingridient_name': 'салат', 'quantity': 10, 'measure': 'гр'},\n",
    "     {'ingridient_name': 'перец', 'quantity': 20, 'measure': 'гр'}\n",
    "    ],\n",
    "  'пицца': [\n",
    "     {'ingridient_name': 'сыр', 'quantity': 20, 'measure': 'гр'},\n",
    "     {'ingridient_name': 'колбаса', 'quantity': 30, 'measure': 'гр'},\n",
    "     {'ingridient_name': 'бекон', 'quantity': 30, 'measure': 'гр'},\n",
    "     {'ingridient_name': 'оливки', 'quantity': 10, 'measure': 'гр'},\n",
    "     {'ingridient_name': 'томаты', 'quantity': 20, 'measure': 'гр'},\n",
    "     {'ingridient_name': 'тесто', 'quantity': 100, 'measure': 'гр'},   \n",
    "    ],\n",
    "  'лимонад': [\n",
    "     {'ingridient_name': 'лимон', 'quantity': 1, 'measure': 'шт'},\n",
    "     {'ingridient_name': 'вода', 'quantity': 200, 'measure': 'мл'},\n",
    "     {'ingridient_name': 'сахар', 'quantity': 10, 'measure': 'гр'},\n",
    "     {'ingridient_name': 'лайм', 'quantity': 20, 'measure': 'гр'},    \n",
    "    ]\n",
    "}\n",
    "#values ={}\n",
    "#values_2 ={}\n",
    "menu_total ={}\n",
    "i=0\n",
    "portions = int(input('Введите количество порций:'))\n",
    "#с помощью вложенных циклов добираемся до значений\n",
    "for  key,value in cook_book.items():\n",
    "    for values_2 in value:\n",
    "        #умножаем вес/кол-во ингридиентов на количество порций. Записываем это в основную таблицу cook_book\n",
    "        values_2['quantity'] = int(values_2['quantity']) * portions\n",
    "        #построчно добавляем ингридиенты в новую таблицу menu_total (если их там еще не было). Каждой \n",
    "        #строчке словаря соответствует уникальный ключ(имя ингридиента и мера).\n",
    "        if (values_2['ingridient_name']+values_2['measure']) not in menu_total:\n",
    "            menu_total[values_2['ingridient_name']+values_2['measure']] = {'ingridient_name':values_2['ingridient_name'],\n",
    "            'quantity':values_2['quantity'],'measure':values_2['measure']}\n",
    "        # если ингридиент уже был записан, добавляем к весу ингридиента в таблице menu_total значение из рецепта cook_book\n",
    "        else:\n",
    "            menu_total[values_2['ingridient_name']+values_2['measure']]['quantity'] += values_2['quantity']  \n",
    "#выводим на печать результат\n",
    "for key,value in menu_total.items():\n",
    "    mystring = value['ingridient_name']\n",
    "    print(mystring.capitalize(),':',value['quantity'],value['measure'])\n"
   ]
  },
  {
   "cell_type": "code",
   "execution_count": null,
   "id": "6477ed2e",
   "metadata": {},
   "outputs": [],
   "source": []
  }
 ],
 "metadata": {
  "kernelspec": {
   "display_name": "Python 3",
   "language": "python",
   "name": "python3"
  },
  "language_info": {
   "codemirror_mode": {
    "name": "ipython",
    "version": 3
   },
   "file_extension": ".py",
   "mimetype": "text/x-python",
   "name": "python",
   "nbconvert_exporter": "python",
   "pygments_lexer": "ipython3",
   "version": "3.8.8"
  }
 },
 "nbformat": 4,
 "nbformat_minor": 5
}
