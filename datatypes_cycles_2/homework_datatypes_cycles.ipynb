{
 "cells": [
  {
   "cell_type": "code",
   "execution_count": 10,
   "id": "909afc7e",
   "metadata": {
    "scrolled": true
   },
   "outputs": [
    {
     "name": "stdout",
     "output_type": "stream",
     "text": [
      "{98, 35, 15, 213, 54, 119}\n"
     ]
    }
   ],
   "source": [
    "#Есть словарь, содержащий гео-метки для каждого пользователя.Нужно вывести на экран множество уникальных гео-меток всех пользователей.\n",
    "ids = {'user1': [213, 213, 213, 15, 213], \n",
    "       'user2': [54, 54, 119, 119, 119], \n",
    "       'user3': [213, 98, 98, 35]}\n",
    "geotags_list = []\n",
    "list_ids = list(ids.values())\n",
    "#делаем 2 вложенных цикла, чтобы получить все гео-метки и затем их записать в одноуровневый список geotags_list\n",
    "for geotags in list_ids:\n",
    "    for geotags_inside1 in geotags:\n",
    "        geotags_list.append(geotags_inside1)\n",
    "#для исключения повторяющихся значений, преобразуем список во множество unique_set\n",
    "unique_set = set(geotags_list)\n",
    "print(unique_set)"
   ]
  },
  {
   "cell_type": "code",
   "execution_count": 17,
   "id": "69d427f4",
   "metadata": {},
   "outputs": [
    {
     "name": "stdout",
     "output_type": "stream",
     "text": [
      "Поисковых запросов, содержащих 2 слов(а): 42.86 %\n",
      "Поисковых запросов, содержащих 3 слов(а): 57.14 %\n"
     ]
    }
   ],
   "source": [
    "#Дана переменная, в которой хранится список поисковых запросов пользователя. \n",
    "#Необходимо написать программу, которая выведет на экран распределение количества слов в запросах в требуемом виде.\n",
    "queries = [\n",
    "    'смотреть сериалы онлайн',\n",
    "    'новости спорта',\n",
    "    'афиша кино',\n",
    "    'курс доллара',\n",
    "    'сериалы этим летом',\n",
    "    'курс по питону',\n",
    "    'сериалы про спорт',\n",
    "]\n",
    "#проходимся по всему списку циклом, и формируем список length_list, который состоит из кол-ва слов \n",
    "# в каждом поисковом запросе.\n",
    "length_list = []\n",
    "dict = {}\n",
    "for element in queries:\n",
    "    words_list = element.split(' ')\n",
    "    length_list.append(len(words_list))\n",
    "#сортируем по возрастанию кол-во слов в запросах, для последующей выдачи результата от меньшего кол-ва слов в запросах к большему\n",
    "    length_list.sort()\n",
    "#создаем словарь, где key= кол-во слов в запросе, а value = количество раз, которые эти keys встречаются \n",
    "#в нашем списке queries\n",
    "for element in length_list:\n",
    "    if element not in dict:\n",
    "        dict[element] = 1\n",
    "    else: \n",
    "        dict[element] = dict[element] + 1\n",
    "#записываем в sum_all_requests сумму всех повторов всех слов (сумма всех значений словаря dict)\n",
    "sum_all_requests=sum(list(dict.values()))\n",
    "#печатаем результат с распределением количества слов в запросах \n",
    "for key,value in dict.items():\n",
    "    print('Поисковых запросов, содержащих',key,'слов(а):', round(value/sum_all_requests*100,2),'%')\n"
   ]
  },
  {
   "cell_type": "code",
   "execution_count": 13,
   "id": "c9fa97e8",
   "metadata": {},
   "outputs": [
    {
     "data": {
      "text/plain": [
       "{'vk': {'revenue': 103, 'cost': 98, 'ROI': 5.1},\n",
       " 'yandex': {'revenue': 179, 'cost': 153, 'ROI': 16.99},\n",
       " 'facebook': {'revenue': 103, 'cost': 110, 'ROI': -6.36},\n",
       " 'adwords': {'revenue': 35, 'cost': 34, 'ROI': 2.94},\n",
       " 'twitter': {'revenue': 11, 'cost': 24, 'ROI': -54.17}}"
      ]
     },
     "execution_count": 13,
     "metadata": {},
     "output_type": "execute_result"
    }
   ],
   "source": [
    "#Дана переменная, в которой хранится информация о затратах и доходе рекламных кампаний по различным источникам. \n",
    "#Необходимо дополнить исходную структуру показателем ROI,который рассчитаем по формуле: (revenue / cost - 1) * 100 \n",
    "results = {\n",
    "    'vk': {'revenue': 103, 'cost': 98},\n",
    "    'yandex': {'revenue': 179, 'cost': 153},\n",
    "    'facebook': {'revenue': 103, 'cost': 110},\n",
    "    'adwords': {'revenue': 35, 'cost': 34},\n",
    "    'twitter': {'revenue': 11, 'cost': 24},\n",
    "}\n",
    "for key,value in results.items():\n",
    "    ROI = round((((value['revenue'])/value['cost'])-1) *100,2)\n",
    "    value['ROI'] = ROI\n",
    "results"
   ]
  },
  {
   "cell_type": "code",
   "execution_count": 14,
   "id": "c4b7b42c",
   "metadata": {},
   "outputs": [
    {
     "name": "stdout",
     "output_type": "stream",
     "text": [
      "Максимальный объем продаж на рекламном канале: vk\n"
     ]
    }
   ],
   "source": [
    "#Дана переменная, в которой хранится статистика рекламных каналов по объемам продаж. \n",
    "#Необходимо написать программу, которая возвращает название канала с максимальным объемом продаж.\n",
    "stats = {'facebook': 55, 'yandex': 115, 'vk': 120, 'google': 99, 'email': 42, 'ok': 98}\n",
    "max_sale_value = int()\n",
    "#проходимся циклом по словарю и находим максимальный объем продаж и соответствующий этому показателю канал\n",
    "for key,value in stats.items():\n",
    "    if max_sale_value < stats[key]:\n",
    "        max_sale_value = stats[key]\n",
    "        max_sale_channel = key\n",
    "print('Максимальный объем продаж на рекламном канале:',max_sale_channel)"
   ]
  },
  {
   "cell_type": "code",
   "execution_count": 103,
   "id": "29331ca4",
   "metadata": {},
   "outputs": [
    {
     "name": "stdout",
     "output_type": "stream",
     "text": [
      "{'2018-01-01': {'yandex': {'cpc': 100}}}\n"
     ]
    }
   ],
   "source": [
    "#Дан список произвольной длины. Необходимо написать код, который на основе исходного списка составит \n",
    "#словарь такого уровня вложенности, какова длина исхондого списка.\n",
    "my_list = ['2018-01-01', 'yandex', 'cpc', 100]\n",
    "my_list.reverse()\n",
    "my_dict = {}\n",
    "my_dict2 = {}\n",
    "i = 0\n",
    "#организовываем циклы для организации вложенных словарей\n",
    "for element in my_list:\n",
    "    if i == 0:\n",
    "        my_dict[my_list[i+1]] = my_list[i]\n",
    "    if (i%2 == 0 and i != 0):\n",
    "        my_dict[my_list[i+1]] = my_dict2\n",
    "        my_dict2={}\n",
    "        z = 1\n",
    "    if i%2 != 0:\n",
    "        my_dict2[my_list[i+1]] = my_dict\n",
    "        my_dict = {}\n",
    "        z = 0\n",
    "    i = i+1\n",
    "    if (i+2) > len(my_list):\n",
    "        break\n",
    "# печатаем непустой словарь\n",
    "if z == 0:\n",
    "    print(my_dict2)\n",
    "print(my_dict)"
   ]
  },
  {
   "cell_type": "code",
   "execution_count": 104,
   "id": "e248f727",
   "metadata": {},
   "outputs": [
    {
     "name": "stdout",
     "output_type": "stream",
     "text": [
      "{'a': {'b': {'c': {'d': {'e': 'f'}}}}}\n"
     ]
    }
   ],
   "source": [
    "#Дан список произвольной длины. Необходимо написать код, который на основе исходного списка составит \n",
    "#словарь такого уровня вложенности, какова длина исхондого списка.\n",
    "my_list = ['a', 'b', 'c', 'd', 'e', 'f']\n",
    "my_list.reverse()\n",
    "my_dict = {}\n",
    "my_dict2 = {}\n",
    "i = 0\n",
    "#организовываем циклы для организации вложенных словарей\n",
    "for element in my_list:\n",
    "    if i == 0:\n",
    "        my_dict[my_list[i+1]] = my_list[i]\n",
    "    if (i%2 == 0 and i != 0):\n",
    "        my_dict[my_list[i+1]] = my_dict2\n",
    "        my_dict2={}\n",
    "        z = 1\n",
    "    if i%2 != 0:\n",
    "        my_dict2[my_list[i+1]] = my_dict\n",
    "        my_dict = {}\n",
    "        z = 0\n",
    "    i = i+1\n",
    "    if (i+2) > len(my_list):\n",
    "        break\n",
    "# печатаем непустой словарь\n",
    "if z == 0:\n",
    "    print(my_dict2)\n",
    "print(my_dict)"
   ]
  },
  {
   "cell_type": "code",
   "execution_count": null,
   "id": "a15313e4",
   "metadata": {},
   "outputs": [],
   "source": []
  }
 ],
 "metadata": {
  "kernelspec": {
   "display_name": "Python 3",
   "language": "python",
   "name": "python3"
  },
  "language_info": {
   "codemirror_mode": {
    "name": "ipython",
    "version": 3
   },
   "file_extension": ".py",
   "mimetype": "text/x-python",
   "name": "python",
   "nbconvert_exporter": "python",
   "pygments_lexer": "ipython3",
   "version": "3.8.8"
  }
 },
 "nbformat": 4,
 "nbformat_minor": 5
}
