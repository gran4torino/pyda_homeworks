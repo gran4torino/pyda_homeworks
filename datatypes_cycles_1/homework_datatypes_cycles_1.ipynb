{
 "cells": [
  {
   "cell_type": "code",
   "execution_count": 1,
   "id": "3714f81f",
   "metadata": {},
   "outputs": [
    {
     "name": "stdout",
     "output_type": "stream",
     "text": [
      "es\n"
     ]
    }
   ],
   "source": [
    "#Задание с четностью букв в слове.\n",
    "word='test'\n",
    "count_letters=len(word)\n",
    "if count_letters % 2 == 0:\n",
    "    start_letter = int(count_letters/2-1)\n",
    "    end_letter = int(count_letters/2)+1\n",
    "    #если число букв в слове четное, то печатаем 2 средние буквы\n",
    "    print(word[start_letter:end_letter])\n",
    "else:\n",
    "    #если число букв в слове нчетное, то печатаем 1 среднюю букву\n",
    "    start_letter = int(count_letters/2)\n",
    "    print(word[start_letter:start_letter+1])\n",
    "#count_letters"
   ]
  },
  {
   "cell_type": "code",
   "execution_count": 2,
   "id": "df60c548",
   "metadata": {},
   "outputs": [
    {
     "name": "stdout",
     "output_type": "stream",
     "text": [
      "t\n"
     ]
    }
   ],
   "source": [
    "#Задание с четностью букв в слове.\n",
    "word = 'testing'\n",
    "count_letters=len(word)\n",
    "if count_letters % 2 == 0:\n",
    "    start_letter = int(count_letters/2-1)\n",
    "    end_letter = int(count_letters/2)+1\n",
    "    #если число букв в слове четное, то печатаем 2 средние буквы\n",
    "    print(word[start_letter:end_letter])\n",
    "else:\n",
    "    #если число букв в слове нчетное, то печатаем 1 среднюю букву\n",
    "    start_letter = int(count_letters/2)\n",
    "    print(word[start_letter:start_letter+1])\n",
    "#count_letters"
   ]
  },
  {
   "cell_type": "code",
   "execution_count": 3,
   "id": "3cfb8097",
   "metadata": {},
   "outputs": [
    {
     "name": "stdout",
     "output_type": "stream",
     "text": [
      "Введите число 1\n",
      "Введите число 4\n",
      "Введите число 6\n",
      "Введите число 0\n",
      "Результат  11\n"
     ]
    }
   ],
   "source": [
    "#запрашиваем у пользователя числа (по одному за раз) и после первого нуля выводит сумму всех ранее введенных чисел.\n",
    "numbers_list = []\n",
    "number = ()\n",
    "while number != 0:\n",
    "    number =int(input('Введите число '))\n",
    "    numbers_list.append(number)\n",
    "    if number == 0:\n",
    "        print('Результат ',sum(numbers_list))"
   ]
  },
  {
   "cell_type": "code",
   "execution_count": 4,
   "id": "f653e383",
   "metadata": {},
   "outputs": [
    {
     "name": "stdout",
     "output_type": "stream",
     "text": [
      "Введите число 0\n",
      "Результат  0\n"
     ]
    }
   ],
   "source": [
    "#запрашиваем у пользователя числа (по одному за раз) и после первого нуля выводит сумму всех ранее введенных чисел.\n",
    "numbers_list = []\n",
    "number = ()\n",
    "while number != 0:\n",
    "    number =int(input('Введите число '))\n",
    "    numbers_list.append(number)\n",
    "    if number == 0:\n",
    "        print('Результат ',sum(numbers_list))"
   ]
  },
  {
   "cell_type": "code",
   "execution_count": 13,
   "id": "e1dc6c11",
   "metadata": {},
   "outputs": [
    {
     "name": "stdout",
     "output_type": "stream",
     "text": [
      "Лучшие пары:\n",
      "Alex и Emma\n",
      "Arthur и Kate\n",
      "John и Kira\n",
      "Peter и Liza\n",
      "Richard и Trisha\n"
     ]
    }
   ],
   "source": [
    "#поиск идеальной пары. Если кол-во мальчиков и девочек одинаково, то выводим пары, отсортированные по алфавиту. Если не одинаеово, \n",
    "# тогда пары не соединяяем\n",
    "boys = ['Peter', 'Alex', 'John', 'Arthur', 'Richard',]\n",
    "girls = ['Kate', 'Liza', 'Kira', 'Emma', 'Trisha']\n",
    "if len(boys) != len(girls):\n",
    " print('Внимание, кто-то может остаться без пары!')\n",
    "else:\n",
    " print('Лучшие пары:')\n",
    " for boy, girl in zip(sorted(boys), sorted(girls)):\n",
    "   print(f'{boy} и {girl}')"
   ]
  },
  {
   "cell_type": "code",
   "execution_count": 7,
   "id": "33e35196",
   "metadata": {},
   "outputs": [
    {
     "name": "stdout",
     "output_type": "stream",
     "text": [
      "Внимание, кто-то может остаться без пары!\n"
     ]
    }
   ],
   "source": [
    "# поиск идеальной пары. Если кол-во мальчиков и девочек одинаково, то выводим пары, отсортированные по алфавиту. Если не одинаеово, \n",
    "# тогда пары не соединяяем\n",
    "boys = ['Peter', 'Alex', 'John', 'Arthur', 'Richard','Michael']\n",
    "girls = ['Kate', 'Liza', 'Kira', 'Emma', 'Trisha']\n",
    "if len(boys) != len(girls):\n",
    " print('Внимание, кто-то может остаться без пары!')\n",
    "else:\n",
    " print('Лучшие пары:')\n",
    " for boy, girl in zip(sorted(boys), sorted(girls)):\n",
    "   print(f'{boy} и {girl}')"
   ]
  },
  {
   "cell_type": "code",
   "execution_count": 7,
   "id": "d46b9f10",
   "metadata": {},
   "outputs": [
    {
     "name": "stdout",
     "output_type": "stream",
     "text": [
      "Средняя температура в странах:\n",
      "Thailand - 23.9\n",
      "Germany - 13.8\n",
      "Russia - 3.7\n",
      "Poland - 12.0\n"
     ]
    }
   ],
   "source": [
    "#рассчитает среднюю температуру за период в Цельсиях(!) для каждой страны. В списке указана температура в Фаренгейтах\n",
    "countries_temperature = [\n",
    "    ['Thailand', [75.2, 77, 78.8, 73.4, 68, 75.2, 77]],\n",
    "    ['Germany', [57.2, 55.4, 59, 59, 53.6]],\n",
    "    ['Russia', [35.6, 37.4, 39.2, 41, 42.8, 39.2, 35.6]],\n",
    "    ['Poland', [50, 50, 53.6, 57.2, 55.4, 55.4]]\n",
    "]\n",
    "print('Средняя температура в странах:')\n",
    "\n",
    "for element in countries_temperature:\n",
    "    middle_temperature_Cels= round((sum(element[1])/len(element[1])-32)*5/9,1)\n",
    "    print(f'{element[0]} - {middle_temperature_Cels}')"
   ]
  },
  {
   "cell_type": "code",
   "execution_count": 1,
   "id": "5840fe86",
   "metadata": {},
   "outputs": [
    {
     "name": "stdout",
     "output_type": "stream",
     "text": [
      "Среднее количество просмотров на уникального пользователя: 23.25\n"
     ]
    }
   ],
   "source": [
    "#Задание 5.нужно посчитать отношение суммы всех просмотров к количеству уникальных пользователей\n",
    "stream = [\n",
    "    '2018-01-01,user1,3',\n",
    "    '2018-01-07,user1,4',\n",
    "    '2018-03-29,user1,1',\n",
    "    '2018-04-04,user1,13',\n",
    "    '2018-01-05,user2,7',\n",
    "    '2018-06-14,user3,4',\n",
    "    '2018-07-02,user3,10',\n",
    "    '2018-03-21,user4,19',\n",
    "    '2018-03-22,user4,4',\n",
    "    '2018-04-22,user4,8',\n",
    "    '2018-05-03,user4,9',\n",
    "    '2018-05-11,user4,11',\n",
    "]\n",
    "sum_view = 0\n",
    "unique_visitors = 0\n",
    "last_user = 0\n",
    "for element in stream:\n",
    "    #разделяем строчку на элементы\n",
    "    string = element.split(',')\n",
    "    # суммируем кол-во всех просмотров (последний столбец)\n",
    "    sum_view = sum_view + int(string[2])\n",
    "    #считаем уникальных посетителей(при условии что логи одного пользователя в списке не разрознены и идут друг за другом)\n",
    "    if string[1] != last_user:\n",
    "            unique_visitors = unique_visitors + 1\n",
    "            last_user = string[1]\n",
    "print('Среднее количество просмотров на уникального пользователя:',round(sum_view/unique_visitors,2))"
   ]
  },
  {
   "cell_type": "code",
   "execution_count": 2,
   "id": "8eab5d09",
   "metadata": {},
   "outputs": [
    {
     "name": "stdout",
     "output_type": "stream",
     "text": [
      "Среднее количество просмотров на уникального пользователя: 145.33\n"
     ]
    }
   ],
   "source": [
    "#Задание 5.нужно посчитать отношение суммы всех просмотров к количеству уникальных пользователей\n",
    "stream = [\n",
    "    '2018-01-01,user100,150',\n",
    "    '2018-01-07,user99,205',\n",
    "    '2018-03-29,user1001,81'\n",
    "]\n",
    "sum_view = 0\n",
    "unique_visitors = 0\n",
    "last_user = 0\n",
    "for element in stream:\n",
    "    #разделяем строчку на элементы\n",
    "    string = element.split(',')\n",
    "    # суммируем кол-во всех просмотров (последний столбец)\n",
    "    sum_view = sum_view + int(string[2])\n",
    "    #считаем уникальных посетителей(при условии что логи одного пользователя в списке не разрознены и идут друг за другом)\n",
    "    if string[1] != last_user:\n",
    "            unique_visitors = unique_visitors + 1\n",
    "            last_user = string[1]\n",
    "print('Среднее количество просмотров на уникального пользователя:',round(sum_view/unique_visitors,2))"
   ]
  },
  {
   "cell_type": "code",
   "execution_count": 3,
   "id": "0e6cde32",
   "metadata": {},
   "outputs": [
    {
     "name": "stdout",
     "output_type": "stream",
     "text": [
      "Введите числа:8 9 8 2 3 0 2 8 1\n",
      "2 8 "
     ]
    }
   ],
   "source": [
    "#Задание 6. Запрашиваем числа через пробел и оставляем только повторяющиеся числа, отсортированные по возрастанию\n",
    "z = 0\n",
    "value = input('Введите числа:')\n",
    "value_numbers = sorted(value.split(' '))\n",
    "for element in value_numbers:\n",
    "    if value_numbers.count(element) > 1 and z != element:\n",
    "        print(f'{element}', end=\" \")\n",
    "        z = element\n",
    "# с помощью переменной z устраняем дубли при печати значений- проверяем, выводили ли на экран значение числа во время предыд.цикла\n"
   ]
  },
  {
   "cell_type": "markdown",
   "id": "62005c23",
   "metadata": {},
   "source": [
    "### "
   ]
  },
  {
   "cell_type": "code",
   "execution_count": 4,
   "id": "0c31a83b",
   "metadata": {
    "scrolled": true
   },
   "outputs": [
    {
     "name": "stdout",
     "output_type": "stream",
     "text": [
      "Введите числа:1 1 2 2 3 3\n",
      "1 2 3 "
     ]
    }
   ],
   "source": [
    "#Задание 6. Запрашиваем числа через пробел и оставляем только повторяющиеся числа, отсортированные по возрастанию\n",
    "z = 0\n",
    "value = input('Введите числа:')\n",
    "value_numbers = sorted(value.split(' '))\n",
    "for element in value_numbers:\n",
    "    if value_numbers.count(element) > 1 and z != element:\n",
    "        print(f'{element}', end=\" \")\n",
    "        z = element\n",
    "# с помощью переменной z устраняем дубли при печати значений- проверяем, выводили ли на экран значение числа во время предыд.цикла\n"
   ]
  }
 ],
 "metadata": {
  "kernelspec": {
   "display_name": "Python 3",
   "language": "python",
   "name": "python3"
  },
  "language_info": {
   "codemirror_mode": {
    "name": "ipython",
    "version": 3
   },
   "file_extension": ".py",
   "mimetype": "text/x-python",
   "name": "python",
   "nbconvert_exporter": "python",
   "pygments_lexer": "ipython3",
   "version": "3.8.8"
  }
 },
 "nbformat": 4,
 "nbformat_minor": 5
}
