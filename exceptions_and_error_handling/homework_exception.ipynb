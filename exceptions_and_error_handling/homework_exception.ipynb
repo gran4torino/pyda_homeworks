{
 "cells": [
  {
   "cell_type": "code",
   "execution_count": 1,
   "id": "077bd3f7",
   "metadata": {},
   "outputs": [
    {
     "name": "stdout",
     "output_type": "stream",
     "text": [
      "The Moscow Times 2002-10-02 00:00:00\n",
      "The Guardian 2013-10-11 00:00:00\n",
      "Daily News 1977-08-18 00:00:00\n"
     ]
    }
   ],
   "source": [
    "#Печатные газеты использовали свой формат дат для каждого выпуска. Для каждой газеты из списка напишите формат \n",
    "#указанной даты для перевода в объект datetime:\n",
    "#The Moscow Times - Wednesday, October 2, 2002\n",
    "#The Guardian - Friday, 11.10.13\n",
    "#Daily News - Thursday, 18 August 1977\n",
    "import datetime\n",
    "from datetime import datetime\n",
    "\n",
    "print('The Moscow Times',datetime.strptime('Wednesday, October 2, 2002','%A, %B %d, %Y'))\n",
    "print('The Guardian',datetime.strptime('Friday, 11.10.13','%A, %d.%m.%y'))\n",
    "print('Daily News',datetime.strptime('Thursday, 18 August 1977','%A, %d %B %Y'))"
   ]
  },
  {
   "cell_type": "code",
   "execution_count": 2,
   "id": "b0939077",
   "metadata": {},
   "outputs": [
    {
     "name": "stdout",
     "output_type": "stream",
     "text": [
      "2018-04-02 True\n",
      "2018-02-29 False\n",
      "2018-19-02 False\n"
     ]
    }
   ],
   "source": [
    "#Дан поток дат в формате YYYY-MM-DD, в которых встречаются некорректные значения:\n",
    "#stream = ['2018-04-02', '2018-02-29', '2018-19-02']\n",
    "#Напишите функцию, которая проверяет эти даты на корректность. Т. е. для каждой даты возвращает\n",
    "#True (дата корректна) или False (некорректная дата).\n",
    "stream = ['2018-04-02', '2018-02-29', '2018-19-02']\n",
    "def check_dates(stream):\n",
    "    import datetime\n",
    "    from datetime import datetime\n",
    "    for element in stream:\n",
    "        #разделяем строчку на элементы\n",
    "        string = element.split(',')\n",
    "        try:\n",
    "            datetime.strptime(string[0],'%Y-%m-%d')\n",
    "        except:\n",
    "            result = print(string[0],False)  \n",
    "        else:\n",
    "            result = print(string[0],True) \n",
    "    return result\n",
    "check_dates(stream)"
   ]
  },
  {
   "cell_type": "code",
   "execution_count": 4,
   "id": "4f5f60c7",
   "metadata": {
    "scrolled": true
   },
   "outputs": [
    {
     "name": "stdout",
     "output_type": "stream",
     "text": [
      "Ввведите начальную дату в формате YYYY-MM-DD: 1899-12-25\n",
      "Ввведите конечную дату в формате YYYY-MM-DD: 1900-01-05\n"
     ]
    },
    {
     "data": {
      "text/plain": [
       "[datetime.datetime(1899, 12, 25, 0, 0),\n",
       " datetime.datetime(1899, 12, 26, 0, 0),\n",
       " datetime.datetime(1899, 12, 27, 0, 0),\n",
       " datetime.datetime(1899, 12, 28, 0, 0),\n",
       " datetime.datetime(1899, 12, 29, 0, 0),\n",
       " datetime.datetime(1899, 12, 30, 0, 0),\n",
       " datetime.datetime(1899, 12, 31, 0, 0),\n",
       " datetime.datetime(1900, 1, 1, 0, 0),\n",
       " datetime.datetime(1900, 1, 2, 0, 0),\n",
       " datetime.datetime(1900, 1, 3, 0, 0),\n",
       " datetime.datetime(1900, 1, 4, 0, 0),\n",
       " datetime.datetime(1900, 1, 5, 0, 0)]"
      ]
     },
     "execution_count": 4,
     "metadata": {},
     "output_type": "execute_result"
    }
   ],
   "source": [
    "#Напишите функцию date_range, которая возвращает список дат за период от start_date до end_date. \n",
    "#Даты должны вводиться в формате формате YYYY-MM-DD. В случае неверного формата \n",
    "#или при start_date > end_date должен возвращаться пустой список.\n",
    "def date_range():\n",
    "    '''\n",
    "    Функция запрашивает начальную и конечную даты и отдает список дат между ними, проверяяя на правильность ввода данных.\n",
    "    Если данные введены неверно или начальная дата больше конечной, то функция отдает пустой список\n",
    "    \n",
    "    '''\n",
    "    days_list = []\n",
    "    import datetime\n",
    "    from datetime import datetime\n",
    "    from datetime import timedelta\n",
    "    start_date = input('Ввведите начальную дату в формате YYYY-MM-DD: ')\n",
    "    end_date = input('Ввведите конечную дату в формате YYYY-MM-DD: ')\n",
    "    try:\n",
    "        start_date_datetime = datetime.strptime(start_date,'%Y-%m-%d')\n",
    "    except:\n",
    "        days_list =[]\n",
    "    else:\n",
    "        try:\n",
    "            end_date_datetime = datetime.strptime(end_date,'%Y-%m-%d')\n",
    "        except:\n",
    "            days_list =[]\n",
    "        else:\n",
    "            if start_date_datetime >end_date_datetime:\n",
    "                days_list =[]\n",
    "            else:\n",
    "                current_day_daytime = start_date_datetime\n",
    "                count = 0\n",
    "                days_list =[]\n",
    "                while current_day_daytime <= end_date_datetime:\n",
    "                    days_list.append(current_day_daytime ) \n",
    "                    current_day_daytime += timedelta(days=1)\n",
    "                    count +=1 \n",
    "    return days_list\n",
    "#вызываем 3 раза функцию для проверки результата\n",
    "date_range()"
   ]
  },
  {
   "cell_type": "code",
   "execution_count": 5,
   "id": "ee1600f3",
   "metadata": {
    "scrolled": true
   },
   "outputs": [
    {
     "name": "stdout",
     "output_type": "stream",
     "text": [
      "Ввведите начальную дату в формате YYYY-MM-DD: 1900-01-01\n",
      "Ввведите конечную дату в формате YYYY-MM-DD: 1899-12-25\n"
     ]
    },
    {
     "data": {
      "text/plain": [
       "[]"
      ]
     },
     "execution_count": 5,
     "metadata": {},
     "output_type": "execute_result"
    }
   ],
   "source": [
    "#Напишите функцию date_range, которая возвращает список дат за период от start_date до end_date. \n",
    "#Даты должны вводиться в формате формате YYYY-MM-DD. В случае неверного формата \n",
    "#или при start_date > end_date должен возвращаться пустой список.\n",
    "def date_range():\n",
    "    '''\n",
    "    Функция запрашивает начальную и конечную даты и отдает список дат между ними, проверяяя на правильность ввода данных.\n",
    "    Если данные введены неверно или начальная дата больше конечной, то функция отдает пустой список\n",
    "    \n",
    "    '''\n",
    "    days_list = []\n",
    "    import datetime\n",
    "    from datetime import datetime\n",
    "    from datetime import timedelta\n",
    "    start_date = input('Ввведите начальную дату в формате YYYY-MM-DD: ')\n",
    "    end_date = input('Ввведите конечную дату в формате YYYY-MM-DD: ')\n",
    "    try:\n",
    "        start_date_datetime = datetime.strptime(start_date,'%Y-%m-%d')\n",
    "    except:\n",
    "        days_list =[]\n",
    "    else:\n",
    "        try:\n",
    "            end_date_datetime = datetime.strptime(end_date,'%Y-%m-%d')\n",
    "        except:\n",
    "            days_list =[]\n",
    "        else:\n",
    "            if start_date_datetime >end_date_datetime:\n",
    "                days_list =[]\n",
    "            else:\n",
    "                current_day_daytime = start_date_datetime\n",
    "                count = 0\n",
    "                days_list =[]\n",
    "                while current_day_daytime <= end_date_datetime:\n",
    "                    days_list.append(current_day_daytime ) \n",
    "                    current_day_daytime += timedelta(days=1)\n",
    "                    count +=1 \n",
    "    return days_list\n",
    "#вызываем 3 раза функцию для проверки результата\n",
    "date_range()"
   ]
  },
  {
   "cell_type": "code",
   "execution_count": 6,
   "id": "3ef72e47",
   "metadata": {
    "scrolled": true
   },
   "outputs": [
    {
     "name": "stdout",
     "output_type": "stream",
     "text": [
      "Ввведите начальную дату в формате YYYY-MM-DD: 1900-44-22\n",
      "Ввведите конечную дату в формате YYYY-MM-DD: 1900-01-15\n"
     ]
    },
    {
     "data": {
      "text/plain": [
       "[]"
      ]
     },
     "execution_count": 6,
     "metadata": {},
     "output_type": "execute_result"
    }
   ],
   "source": [
    "#Напишите функцию date_range, которая возвращает список дат за период от start_date до end_date. \n",
    "#Даты должны вводиться в формате формате YYYY-MM-DD. В случае неверного формата \n",
    "#или при start_date > end_date должен возвращаться пустой список.\n",
    "def date_range():\n",
    "    '''\n",
    "    Функция запрашивает начальную и конечную даты и отдает список дат между ними, проверяяя на правильность ввода данных.\n",
    "    Если данные введены неверно или начальная дата больше конечной, то функция отдает пустой список\n",
    "    \n",
    "    '''\n",
    "    days_list = []\n",
    "    import datetime\n",
    "    from datetime import datetime\n",
    "    from datetime import timedelta\n",
    "    start_date = input('Ввведите начальную дату в формате YYYY-MM-DD: ')\n",
    "    end_date = input('Ввведите конечную дату в формате YYYY-MM-DD: ')\n",
    "    try:\n",
    "        start_date_datetime = datetime.strptime(start_date,'%Y-%m-%d')\n",
    "    except:\n",
    "        days_list =[]\n",
    "    else:\n",
    "        try:\n",
    "            end_date_datetime = datetime.strptime(end_date,'%Y-%m-%d')\n",
    "        except:\n",
    "            days_list =[]\n",
    "        else:\n",
    "            if start_date_datetime >end_date_datetime:\n",
    "                days_list =[]\n",
    "            else:\n",
    "                current_day_daytime = start_date_datetime\n",
    "                count = 0\n",
    "                days_list =[]\n",
    "                while current_day_daytime <= end_date_datetime:\n",
    "                    days_list.append(current_day_daytime ) \n",
    "                    current_day_daytime += timedelta(days=1)\n",
    "                    count +=1 \n",
    "    return days_list\n",
    "#вызываем 3 раза функцию для проверки результата\n",
    "date_range()"
   ]
  },
  {
   "cell_type": "code",
   "execution_count": null,
   "id": "28121a6b",
   "metadata": {},
   "outputs": [],
   "source": [
    "#Нужно найти ошибку\n",
    "\n",
    "DEFAULT_USER_COUNT = 3\n",
    "def delete_and_return_last_user(region, default_list=['A100', 'A101', 'A102']):\n",
    "    element_to_delete = default_list[-1]\n",
    "    default_list.remove(element_to_delete)\n",
    "    return default_list[DEFAULT_USER_COUNT-2]\n",
    "\n",
    "delete_and_return_last_user(5)\n",
    "delete_and_return_last_user(5)  \n",
    "#delete_and_return_last_user(5)\n",
    "#1)Что значит ошибка list index out of range?\n",
    "#эта ошибка возникает, когда вы пытаетесь получить доступ к значению индекса внутри списка, а этого индекса внутри\n",
    "#списка не существует\n",
    "#2)Почему при первом запуске функция работает корректно, а при втором - нет?\n",
    "#Функция удаляет последний из 3-х элементов справа. \n",
    "#1-ая итерация: default_list =['A100', 'A101'], default_list[3-2=1]= 'A101'. \n",
    "#2-ая итерация: default_list = ['A100'], , default_list[3-2=1]= будет ошибка 'list index out of range'\n",
    "# т.к. default_list[1] указывает на 2-ой элемент в списке, а у нас в списке уже всего 1 элемент.\n"
   ]
  },
  {
   "cell_type": "code",
   "execution_count": null,
   "id": "dc8a1bf0",
   "metadata": {},
   "outputs": [],
   "source": []
  }
 ],
 "metadata": {
  "kernelspec": {
   "display_name": "Python 3",
   "language": "python",
   "name": "python3"
  },
  "language_info": {
   "codemirror_mode": {
    "name": "ipython",
    "version": 3
   },
   "file_extension": ".py",
   "mimetype": "text/x-python",
   "name": "python",
   "nbconvert_exporter": "python",
   "pygments_lexer": "ipython3",
   "version": "3.8.8"
  }
 },
 "nbformat": 4,
 "nbformat_minor": 5
}
