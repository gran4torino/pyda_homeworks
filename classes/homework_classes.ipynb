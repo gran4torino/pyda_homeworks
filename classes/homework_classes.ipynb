{
 "cells": [
  {
   "cell_type": "code",
   "execution_count": 3,
   "id": "c0bbc601",
   "metadata": {},
   "outputs": [
    {
     "name": "stdout",
     "output_type": "stream",
     "text": [
      "Максимальное значение курса -  104.4161 у валюты СДР (специальные права заимствования)\n"
     ]
    }
   ],
   "source": [
    "#Напишите функцию, которая возвращает название валюты (поле ‘Name’) с максимальным значением курса с помощью \n",
    "#сервиса https://www.cbr-xml-daily.ru/daily_json.js\n",
    "import requests\n",
    "def exchange_rates_max(message=False):\n",
    "        \"\"\"\n",
    "        Возвращает ответ от сервиса https://www.cbr-xml-daily.ru/daily_json.js\n",
    "        с информацией о наименовании валюты с максимальным значением курса \n",
    "        пераметр фукции message отвечает за печать сообщения о максимальном курсе вместе с наименованием\n",
    "        валюты\n",
    "    \n",
    "        \"\"\"\n",
    "        r = requests.get('https://www.cbr-xml-daily.ru/daily_json.js')\n",
    "        rates_dict = r.json()['Valute']\n",
    "        max_value = 0\n",
    "        for key in rates_dict:\n",
    "            if rates_dict[key]['Value'] > max_value:\n",
    "                max_value = rates_dict[key]['Value']\n",
    "                max_value_name = rates_dict[key]['Name']\n",
    "        if message:\n",
    "            print(\"Максимальное значение курса - \", max_value, 'у валюты',max_value_name)\n",
    "        else: \n",
    "            return max_value_name\n",
    "            \n",
    "exchange_rates_max(True)"
   ]
  },
  {
   "cell_type": "code",
   "execution_count": 4,
   "id": "bc30154e",
   "metadata": {},
   "outputs": [
    {
     "data": {
      "text/plain": [
       "'СДР (специальные права заимствования)'"
      ]
     },
     "execution_count": 4,
     "metadata": {},
     "output_type": "execute_result"
    }
   ],
   "source": [
    "exchange_rates_max(False)"
   ]
  },
  {
   "cell_type": "code",
   "execution_count": 118,
   "id": "a23d6897",
   "metadata": {},
   "outputs": [
    {
     "data": {
      "text/plain": [
       "'СДР (специальные права заимствования)'"
      ]
     },
     "execution_count": 118,
     "metadata": {},
     "output_type": "execute_result"
    }
   ],
   "source": [
    "#2-ой вариант\n",
    "import requests\n",
    "r = requests.get('https://www.cbr-xml-daily.ru/daily_json.js')\n",
    "\n",
    "data_dict = r.json()['Valute']\n",
    "#находим максимальные значения из списка data_dict.items(), сравнивая значения 'Value', и возращая наимеование валюты 'Name'\n",
    "max(data_dict.items(), key=lambda x: x[1]['Value'])[1]['Name']"
   ]
  },
  {
   "cell_type": "code",
   "execution_count": 114,
   "id": "170884f0",
   "metadata": {},
   "outputs": [
    {
     "name": "stdout",
     "output_type": "stream",
     "text": [
      "Help on built-in function max in module builtins:\n",
      "\n",
      "max(...)\n",
      "    max(iterable, *[, default=obj, key=func]) -> value\n",
      "    max(arg1, arg2, *args, *[, key=func]) -> value\n",
      "    \n",
      "    With a single iterable argument, return its biggest item. The\n",
      "    default keyword-only argument specifies an object to return if\n",
      "    the provided iterable is empty.\n",
      "    With two or more arguments, return the largest argument.\n",
      "\n"
     ]
    }
   ],
   "source": [
    "help(max)"
   ]
  },
  {
   "cell_type": "code",
   "execution_count": 5,
   "id": "f416a81a",
   "metadata": {},
   "outputs": [],
   "source": [
    "#Добавьте в класс Rate параметр diff (со значениями True или False), который в случае значения \n",
    "#True в методах курсов валют (eur, usd итд) будет возвращать не курс валюты, а изменение \n",
    "#по сравнению в прошлым значением. Считайте, self.diff будет принимать значение True только\n",
    "#при возврате значения курса. При отображении всей информации о валюте он не используется.\n",
    "class Rate:\n",
    "    def __init__(self, format_='value',diff=True):\n",
    "        self.format = format_\n",
    "        self.diff = diff\n",
    "    def exchange_rates(self):\n",
    "        \"\"\"\n",
    "        Возвращает ответ сервиса с информацией о валютах в виде:\n",
    "        \n",
    "        {\n",
    "            'AMD': {\n",
    "                'CharCode': 'AMD',\n",
    "                'ID': 'R01060',\n",
    "                'Name': 'Армянских драмов',\n",
    "                'Nominal': 100,\n",
    "                'NumCode': '051',\n",
    "                'Previous': 14.103,\n",
    "                'Value': 14.0879\n",
    "                },\n",
    "            ...\n",
    "        }\n",
    "        \"\"\"\n",
    "        self.r = requests.get('https://www.cbr-xml-daily.ru/daily_json.js')\n",
    "        return self.r.json()['Valute']\n",
    "    \n",
    "    def make_format(self, currency,diff):\n",
    "        \"\"\"\n",
    "        Возвращает информацию о валюте currency в  трех вариантах:\n",
    "        1. полная информация о валюте при self.format = 'full':\n",
    "        Rate('full').make_format('EUR')\n",
    "        {\n",
    "            'CharCode': 'EUR',\n",
    "            'ID': 'R01239',\n",
    "            'Name': 'Евро',\n",
    "            'Nominal': 1,\n",
    "            'NumCode': '978',\n",
    "            'Previous': 79.6765,\n",
    "            'Value': 79.4966\n",
    "        }\n",
    "        2. Краткая информация\n",
    "        Rate('value').make_format('EUR',False)\n",
    "        79.4966\n",
    "        3. Изменение курса по сравнению с предыдущим значением\n",
    "         Rate('value').make_format('EUR'5,True)\n",
    "         0.1735\n",
    "        \"\"\"\n",
    "        self.diff = diff\n",
    "        response = self.exchange_rates()\n",
    "        \n",
    "        if currency in response:\n",
    "            if self.format == 'full':\n",
    "                return response[currency]\n",
    "            \n",
    "            if self.format == 'value':\n",
    "                if self.diff:\n",
    "                    diff_value = response[currency]['Value'] - response[currency]['Previous']\n",
    "                    return diff_value\n",
    "                else:    \n",
    "                    return response[currency]['Value']\n",
    "            \n",
    "        \n",
    "        return 'Error'\n",
    "    \n",
    "    def eur(self,diff):\n",
    "        \"\"\"Возвращает курс евро на сегодня или изменеие курса (diff=True)в формате self.format\"\"\"\n",
    "        return self.make_format('EUR',diff)\n",
    "    \n",
    "    def usd(self,diff):\n",
    "         \"\"\"Возвращает курс евро на сегодня или изменеие курса (diff=True)в формате self.format\"\"\"\n",
    "        return self.make_format('USD',diff)\n",
    "    \n",
    "    def brl(self, diff):\n",
    "         \"\"\"Возвращает курс евро на сегодня или изменеие курса (diff=True)в формате self.format\"\"\"\n",
    "        return self.make_format('BRL',diff)"
   ]
  },
  {
   "cell_type": "code",
   "execution_count": 6,
   "id": "37bfed61",
   "metadata": {},
   "outputs": [
    {
     "data": {
      "text/plain": [
       "0.1735000000000042"
      ]
     },
     "execution_count": 6,
     "metadata": {},
     "output_type": "execute_result"
    }
   ],
   "source": [
    "r = Rate()\n",
    "r.eur(True)"
   ]
  },
  {
   "cell_type": "code",
   "execution_count": 7,
   "id": "6648419e",
   "metadata": {},
   "outputs": [
    {
     "data": {
      "text/plain": [
       "87.0677"
      ]
     },
     "execution_count": 7,
     "metadata": {},
     "output_type": "execute_result"
    }
   ],
   "source": [
    "r.eur(False)"
   ]
  },
  {
   "cell_type": "code",
   "execution_count": 10,
   "id": "2ec07789",
   "metadata": {},
   "outputs": [
    {
     "data": {
      "text/plain": [
       "-0.03260000000000218"
      ]
     },
     "execution_count": 10,
     "metadata": {},
     "output_type": "execute_result"
    }
   ],
   "source": [
    "r.usd(True)"
   ]
  },
  {
   "cell_type": "code",
   "execution_count": 13,
   "id": "b5411253",
   "metadata": {},
   "outputs": [
    {
     "data": {
      "text/plain": [
       "73.1661"
      ]
     },
     "execution_count": 13,
     "metadata": {},
     "output_type": "execute_result"
    }
   ],
   "source": [
    "r.usd(False)"
   ]
  },
  {
   "cell_type": "code",
   "execution_count": 104,
   "id": "49693ed8",
   "metadata": {},
   "outputs": [],
   "source": [
    "#Напишите класс Designer, который учитывает количество международных премий. Подсказки в коде занятия в разделе\n",
    "#“Домашнее задание задача 3”.\n",
    "#Комментарий по классу Designer такой:\n",
    "#Напишите класс Designer, который учитывает количество международных премий для дизайнеров (из презентации: \n",
    "#“Повышение на 1 грейд за каждые 7 баллов. Получение международной премии – это +2 балла”). Считайте, что при \n",
    "#выходе на работу сотрудник уже имеет две премии и их количество не меняется со стажем (конечно если хотите это \n",
    "#можно вручную менять)\n",
    "\n",
    "\n",
    "class Employee:\n",
    "    def __init__(self, name, seniority):\n",
    "        self.name = name\n",
    "        self.seniority = seniority\n",
    "        \n",
    "        self.grade = 1\n",
    "    \n",
    "    def grade_up(self):\n",
    "        \"\"\"Повышает уровень сотрудника\"\"\"\n",
    "        self.grade += 1\n",
    "    \n",
    "    def publish_grade(self):\n",
    "        \"\"\"Публикация результатов аккредитации сотрудников\"\"\"\n",
    "        print(self.name, 'грейд:',self.grade,'баллов:' ,self.seniority)\n",
    "    \n",
    "    def check_if_it_is_time_for_upgrade(self):\n",
    "        pass"
   ]
  },
  {
   "cell_type": "code",
   "execution_count": 106,
   "id": "2e9f818e",
   "metadata": {},
   "outputs": [],
   "source": [
    "#Наследуем класс Employee, для создания своего собственного класса Designer\n",
    "class Designer(Employee):\n",
    "    def __init__(self, name, seniority=4):\n",
    "        super().__init__(name, seniority)\n",
    "    \n",
    "    def upgrade_for_international_prize(self):\n",
    "        '''\n",
    "        при каждом вызове метода ( получение международной премии для дизайнера) счетчик увеличивается на 2 балла\n",
    "        '''\n",
    "        self.seniority += 2\n",
    "        \n",
    "        # условие повышения сотрудника из презентации- добавляем 1 грейд за каждые 7 баллов.\n",
    "        #т.к. текущие баллы- это всегда четное число, а числоб кратное 7 -это как четное\n",
    "        #так и нечетное число, то делаем проверку на сооседнее с проверяем число\n",
    "        if self.seniority % 7 == 0 or (self.seniority -1)% 7 == 0:\n",
    "            self.grade_up()\n",
    "        \n",
    "        # публикация результатов\n",
    "        return self.publish_grade()"
   ]
  },
  {
   "cell_type": "code",
   "execution_count": 107,
   "id": "d337902e",
   "metadata": {},
   "outputs": [],
   "source": [
    "# проверяем как работает система повышения сотрудников на примере отдела дизайна\n",
    "\n",
    "# Ирина только что пришла в компанию и у нее уже есть 2 международной премии или 4 балла\n",
    "irina = Designer('Ирина')"
   ]
  },
  {
   "cell_type": "code",
   "execution_count": 108,
   "id": "8f0a9c65",
   "metadata": {},
   "outputs": [
    {
     "name": "stdout",
     "output_type": "stream",
     "text": [
      "Ирина грейд: 1 баллов: 6\n",
      "Ирина грейд: 2 баллов: 8\n",
      "Ирина грейд: 2 баллов: 10\n",
      "Ирина грейд: 2 баллов: 12\n",
      "Ирина грейд: 3 баллов: 14\n",
      "Ирина грейд: 3 баллов: 16\n",
      "Ирина грейд: 3 баллов: 18\n",
      "Ирина грейд: 3 баллов: 20\n",
      "Ирина грейд: 4 баллов: 22\n",
      "Ирина грейд: 4 баллов: 24\n",
      "Ирина грейд: 4 баллов: 26\n",
      "Ирина грейд: 5 баллов: 28\n",
      "Ирина грейд: 5 баллов: 30\n",
      "Ирина грейд: 5 баллов: 32\n",
      "Ирина грейд: 5 баллов: 34\n",
      "Ирина грейд: 6 баллов: 36\n",
      "Ирина грейд: 6 баллов: 38\n",
      "Ирина грейд: 6 баллов: 40\n",
      "Ирина грейд: 7 баллов: 42\n",
      "Ирина грейд: 7 баллов: 44\n"
     ]
    }
   ],
   "source": [
    "for i in range(20):\n",
    "    irina.upgrade_for_international_prize()"
   ]
  },
  {
   "cell_type": "code",
   "execution_count": 105,
   "id": "8c2c79cc",
   "metadata": {},
   "outputs": [],
   "source": [
    "# обнулеие для прооверки\n",
    "irina.grade = 0\n",
    "irina.seniority = 0"
   ]
  },
  {
   "cell_type": "code",
   "execution_count": 109,
   "id": "ac02458b",
   "metadata": {},
   "outputs": [
    {
     "data": {
      "text/plain": [
       "'СДР (специальные права заимствования)'"
      ]
     },
     "execution_count": 109,
     "metadata": {},
     "output_type": "execute_result"
    }
   ],
   "source": [
    "import requests\n",
    "r = requests.get('https://www.cbr-xml-daily.ru/daily_json.js')\n",
    "\n",
    "data_dict = r.json()['Valute']\n",
    "max(data_dict.items(), key=lambda x: x[1]['Value'])[1]['Name']"
   ]
  },
  {
   "cell_type": "code",
   "execution_count": null,
   "id": "0262c351",
   "metadata": {},
   "outputs": [],
   "source": []
  }
 ],
 "metadata": {
  "kernelspec": {
   "display_name": "Python 3",
   "language": "python",
   "name": "python3"
  },
  "language_info": {
   "codemirror_mode": {
    "name": "ipython",
    "version": 3
   },
   "file_extension": ".py",
   "mimetype": "text/x-python",
   "name": "python",
   "nbconvert_exporter": "python",
   "pygments_lexer": "ipython3",
   "version": "3.8.8"
  }
 },
 "nbformat": 4,
 "nbformat_minor": 5
}
